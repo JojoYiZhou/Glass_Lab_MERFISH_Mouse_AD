{
 "cells": [
  {
   "cell_type": "code",
   "execution_count": null,
   "id": "af08b06f",
   "metadata": {},
   "outputs": [],
   "source": [
    "import pickle\n",
    "import seaborn as sns\n",
    "import pandas as pd\n",
    "import os\n",
    "import matplotlib.pyplot as plt\n",
    "import numpy as np\n",
    "from tqdm.notebook import tqdm\n",
    "import pathlib\n",
    "import json\n",
    "import glob\n",
    "import PIL\n",
    "import scanpy as sc"
   ]
  },
  {
   "cell_type": "code",
   "execution_count": null,
   "id": "6723c37b",
   "metadata": {},
   "outputs": [],
   "source": [
    "adata_mg=sc.read(r'data\\240719AnalysisDAM_TERM\\adata_mg.h5ad')\n",
    "adata_whole=sc.read(r'data\\240719AnalysisDAM_TERM\\adata_del2.h5ad')"
   ]
  },
  {
   "cell_type": "code",
   "execution_count": null,
   "id": "e6fb4045",
   "metadata": {},
   "outputs": [],
   "source": [
    "output_folder = r'R:\\GV1Backup\\AM\\data\\240719AnalysisDAM_TERM\\fig_0910'"
   ]
  },
  {
   "cell_type": "code",
   "execution_count": null,
   "id": "4abcb040",
   "metadata": {},
   "outputs": [],
   "source": [
    "adata=adata_mg.copy()"
   ]
  },
  {
   "cell_type": "code",
   "execution_count": null,
   "id": "5099ecd8",
   "metadata": {},
   "outputs": [],
   "source": [
    "sc.tl.diffmap(adata)\n",
    "sc.pp.neighbors(adata, n_neighbors=10, use_rep=\"X_diffmap\")"
   ]
  },
  {
   "cell_type": "code",
   "execution_count": null,
   "id": "195b789c",
   "metadata": {},
   "outputs": [],
   "source": [
    "\n",
    "sc.tl.draw_graph(adata, layout='fa',)\n",
    "sc.pl.draw_graph(adata, color=\"celltype_5\", legend_loc=\"on data\")"
   ]
  },
  {
   "cell_type": "code",
   "execution_count": null,
   "id": "21d7ec1c",
   "metadata": {},
   "outputs": [],
   "source": [
    "sc.tl.leiden(adata, resolution=0.5)\n",
    "sc.tl.paga(adata, groups=\"leiden\")"
   ]
  },
  {
   "cell_type": "code",
   "execution_count": null,
   "id": "05fcf2a6",
   "metadata": {},
   "outputs": [],
   "source": [
    "sc.pl.paga(adata, threshold=0.1, show=False, node_size_scale=15, edge_width_scale=1,title ='fa_th0p3')\n",
    "sc.pl.paga(adata, threshold=0.1, show=False, node_size_scale=15, edge_width_scale=1,color='celltype_5')"
   ]
  },
  {
   "cell_type": "code",
   "execution_count": null,
   "id": "3744b7d4",
   "metadata": {},
   "outputs": [],
   "source": [
    "sc.tl.paga(adata, groups=\"celltype_5\")"
   ]
  },
  {
   "cell_type": "markdown",
   "id": "e3d59098-af3c-410a-a2e1-889db6a5c383",
   "metadata": {},
   "source": [
    "# Extended Fig2e,2f"
   ]
  },
  {
   "cell_type": "code",
   "execution_count": null,
   "id": "ea8a5d38",
   "metadata": {},
   "outputs": [],
   "source": [
    "sc.pl.paga_compare(\n",
    "    adata,\n",
    "    threshold=0.4,\n",
    "    title=\"\",\n",
    "    right_margin=0.2,\n",
    "    size=10,\n",
    "    edge_width_scale=1,\n",
    "    legend_fontsize=12,\n",
    "    fontsize=16,\n",
    "    frameon=False,\n",
    "    edges=True,\n",
    "    node_size_scale=10,\n",
    "    save=True,\n",
    ")"
   ]
  },
  {
   "cell_type": "code",
   "execution_count": null,
   "id": "73c924a6",
   "metadata": {},
   "outputs": [],
   "source": [
    "adata.uns[\"iroot\"] = np.flatnonzero(adata.obs[\"celltype_5\"] == \"Mg_0\")[0]\n"
   ]
  },
  {
   "cell_type": "code",
   "execution_count": null,
   "id": "95493522",
   "metadata": {},
   "outputs": [],
   "source": [
    "sc.tl.dpt(adata,n_branchings=2,min_group_size=0.02)\n",
    "sc.pl.draw_graph(adata, color=[\"celltype_5\", \"dpt_pseudotime\"], legend_loc=\"on data\",size=4)"
   ]
  },
  {
   "cell_type": "code",
   "execution_count": null,
   "id": "57050893",
   "metadata": {},
   "outputs": [],
   "source": [
    "adata.obs[\"distance\"] = adata.obs[\"dpt_pseudotime\"]"
   ]
  },
  {
   "cell_type": "code",
   "execution_count": null,
   "id": "f4abad2c",
   "metadata": {},
   "outputs": [],
   "source": [
    "paths=[\n",
    "    (\"DAM\",['Mg_0','Mg_1','Mg_3','Mg_4','Mg_5']),\n",
    "    (\"TERM\",['Mg_0','Mg_1','Mg_2','Mg_3','Mg_6']),\n",
    "]"
   ]
  },
  {
   "cell_type": "code",
   "execution_count": null,
   "id": "df65c7a3",
   "metadata": {},
   "outputs": [],
   "source": [
    "tfs_inlib=['Atf3', 'Bhlhe40', 'Bhlhe41', 'Cebpa', 'Cebpg', 'Egr1', 'Egr2', 'Ets1', 'Fos', 'Fosb', 'Irf8', 'Jun', 'Junb', 'Mafb', 'Mef2c', 'Mitf', 'Nfkb1', 'Nfkb2', 'Rela', 'Smad3', 'Smad4', 'Spi1', 'Tfe3', 'Tfeb']"
   ]
  },
  {
   "cell_type": "code",
   "execution_count": null,
   "id": "2ac314f9",
   "metadata": {},
   "outputs": [],
   "source": [
    "\n",
    "_, axs = plt.subplots(\n",
    "    ncols=2, figsize=(4, 10), gridspec_kw={\"wspace\": 0.05, \"left\": 0.12}\n",
    ")\n",
    "plt.subplots_adjust(left=0.05, right=0.98, top=0.82, bottom=0.2)\n",
    "for ipath, (descr, path) in enumerate(paths):\n",
    "    _, data = sc.pl.paga_path(\n",
    "        adata,\n",
    "        path,\n",
    "        tfs_inlib,\n",
    "        show_node_names=False,\n",
    "        ax=axs[ipath],\n",
    "        ytick_fontsize=12,\n",
    "        left_margin=0.15,\n",
    "        n_avg=50,\n",
    "        annotations=[\"distance\"],\n",
    "        show_yticks=True if ipath == 0 else False,\n",
    "        show_colorbar=False,\n",
    "        color_map=\"coolwarm\",\n",
    "        groups_key=\"celltype_5\",\n",
    "        color_maps_annotations={\"distance\": \"viridis\"},\n",
    "        title=\"{} path\".format(descr),\n",
    "        return_data=True,\n",
    "        show=False,\n",
    "    )\n",
    "    #data.to_csv(\"./write/paga_path_{}.csv\".format(descr))\n",
    "#pl.savefig(\"./figures/paga_path_paul15.pdf\")\n",
    "plt.show()"
   ]
  },
  {
   "cell_type": "markdown",
   "id": "4fb6acd5-8ece-431c-a8e8-6b87b8f38959",
   "metadata": {},
   "source": [
    "# Fig1f"
   ]
  },
  {
   "cell_type": "code",
   "execution_count": null,
   "id": "ee65337b",
   "metadata": {
    "scrolled": true
   },
   "outputs": [],
   "source": [
    "tfs_sel1=['Tfe3','Irf8','Smad3','Ets1','Cebpa', 'Atf3','Mef2c', 'Junb','Mitf','Bhlhe40','Jun','Egr2']\n",
    "_, axs = plt.subplots(\n",
    "    ncols=2, figsize=(4, 6), gridspec_kw={\"wspace\": 0.05, \"left\": 0.12}\n",
    ")\n",
    "plt.subplots_adjust(left=0.05, right=0.98, top=0.82, bottom=0.2)\n",
    "for ipath, (descr, path) in enumerate(paths):\n",
    "    _, data = sc.pl.paga_path(\n",
    "        adata,\n",
    "        path,\n",
    "        tfs_sel1,\n",
    "        show_node_names=False,\n",
    "        ax=axs[ipath],\n",
    "        ytick_fontsize=12,\n",
    "        left_margin=0.15,\n",
    "        n_avg=50,\n",
    "        annotations=[\"distance\"],\n",
    "        show_yticks=True if ipath == 0 else False,\n",
    "        show_colorbar=False,\n",
    "        color_map=\"cividis\",\n",
    "        groups_key=\"celltype_5\",\n",
    "        color_maps_annotations={\"distance\": \"viridis\"},\n",
    "        title=\"{} path\".format(descr),\n",
    "        return_data=True,\n",
    "        show=False,\n",
    "    )\n",
    "    \n",
    "output_folder = r'data\\240719AnalysisDAM_TERM\\fig_0925\\Fig1F'    \n",
    "plt.savefig(f'{output_folder}\\\\tf_path_cividis_scale_vbar2.pdf', format='pdf', dpi=300,bbox_inches='tight')\n",
    "plt.show()"
   ]
  },
  {
   "cell_type": "code",
   "execution_count": null,
   "id": "79a9cd88",
   "metadata": {},
   "outputs": [],
   "source": []
  }
 ],
 "metadata": {
  "kernelspec": {
   "display_name": "Python 3 (ipykernel)",
   "language": "python",
   "name": "python3"
  },
  "language_info": {
   "codemirror_mode": {
    "name": "ipython",
    "version": 3
   },
   "file_extension": ".py",
   "mimetype": "text/x-python",
   "name": "python",
   "nbconvert_exporter": "python",
   "pygments_lexer": "ipython3",
   "version": "3.9.19"
  }
 },
 "nbformat": 4,
 "nbformat_minor": 5
}
