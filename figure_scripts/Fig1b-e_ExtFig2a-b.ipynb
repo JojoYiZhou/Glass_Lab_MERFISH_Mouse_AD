{
 "cells": [
  {
   "cell_type": "code",
   "execution_count": null,
   "id": "fa938e56-c932-4759-93b5-b359649ea502",
   "metadata": {},
   "outputs": [],
   "source": [
    "import pickle\n",
    "import seaborn as sns\n",
    "import imageio as io\n",
    "import pandas as pd\n",
    "import os\n",
    "import matplotlib.pyplot as plt\n",
    "import numpy as np\n",
    "import tifffile\n",
    "from tqdm.notebook import tqdm\n",
    "import pathlib\n",
    "import json\n",
    "import glob\n",
    "import PIL\n",
    "import scanpy as sc"
   ]
  },
  {
   "cell_type": "code",
   "execution_count": null,
   "id": "9ee4b272-6a16-448c-af96-691127681ced",
   "metadata": {},
   "outputs": [],
   "source": [
    "adata_mg=sc.read(r'data\\240719AnalysisDAM_TERM\\adata_mg.h5ad')\n",
    "adata_whole=sc.read(r'data\\240719AnalysisDAM_TERM\\adata_whole.h5ad')"
   ]
  },
  {
   "cell_type": "code",
   "execution_count": null,
   "id": "fdaf679a-9879-4932-ae43-c290f7e8aef4",
   "metadata": {},
   "outputs": [],
   "source": [
    "output_folder = r'data\\240719AnalysisDAM_TERM\\fig_0910'"
   ]
  },
  {
   "cell_type": "code",
   "execution_count": null,
   "id": "238291cd-2d1a-4c46-94ef-ba72304525a6",
   "metadata": {},
   "outputs": [],
   "source": [
    "adata=adata_mg.copy()"
   ]
  },
  {
   "cell_type": "markdown",
   "id": "16044f8a-c574-4fac-a94c-e75634fc4e42",
   "metadata": {},
   "source": [
    "# Fig1b"
   ]
  },
  {
   "cell_type": "code",
   "execution_count": null,
   "id": "3a4299de-2d6d-4de2-b1bd-e335a80b3718",
   "metadata": {},
   "outputs": [],
   "source": [
    "custom_colors = {\n",
    "    'Mg_0': 'skyblue',    # Yellow#ffe119\n",
    "    'Mg_2': '#f58231',    # blue4363d8\n",
    "    'Mg_1': '#ffe119', #  Green#3cb44b\n",
    "    'Mg_6': '#e6194B', # Lime#3cb44b\n",
    "    'Mg_5': '#f032e6', # Bright Red\n",
    "    'Mg_7': '#fabed4', #  Orange#f58231 Magenta#f032e6 pink#fabed4\n",
    "    'Mg_3': '#3cb44b', # Olive#808000 4363d8\n",
    "    'Mg_4': '#4363d8' # Magenta#f032e6 Bright Red#e6194B     \n",
    "}\n",
    "\n",
    "unique_classes = adata.obs['celltype_5'].cat.categories\n",
    "adata.uns['celltype_5_colors'] = [custom_colors.get(cls, '#000000') for cls in unique_classes]  # Default black for missing classes\n",
    "sc.set_figure_params(figsize=(5, 5))\n",
    "sc.pl.umap(\n",
    "    adata, \n",
    "    color='celltype_5',\n",
    "    add_outline=True,\n",
    "    legend_loc='on data',  \n",
    "    legend_fontsize=16,\n",
    "    legend_fontoutline=2,\n",
    "    frameon=False,\n",
    "    size=20,\n",
    "    show=False,\n",
    "    use_raw=False\n",
    ")\n",
    "\n",
    "output_path = f'{output_folder}/MG_umap_unicolor_update2.pdf'\n",
    "plt.savefig(output_path, bbox_inches='tight', dpi=300)\n",
    "plt.show()\n"
   ]
  },
  {
   "cell_type": "markdown",
   "id": "9740e5db-050c-47ed-95d7-70c2b0d13484",
   "metadata": {},
   "source": [
    "# Fig1c"
   ]
  },
  {
   "cell_type": "code",
   "execution_count": null,
   "id": "e61aa534-bab9-4bbc-8c57-a6b1ee1cd8b2",
   "metadata": {},
   "outputs": [],
   "source": [
    "mark1=['Tmem119','Sall1','Axl','Cd47','Atp6v1a','Clec7a','Trem2','Tyrobp','Lpl','Spp1','Gpnmb','H2-Aa']\n",
    "sc.pl.dotplot(adata, mark1, groupby='celltype_5',dendrogram=False, save='Mg_dotplot2.pdf')"
   ]
  },
  {
   "cell_type": "markdown",
   "id": "9db15e69-d8cc-4982-8ba8-48f51a61989f",
   "metadata": {},
   "source": [
    "# Extended Fig2a"
   ]
  },
  {
   "cell_type": "code",
   "execution_count": null,
   "id": "5f62f741-7359-4928-a172-b53670a2b10d",
   "metadata": {},
   "outputs": [],
   "source": [
    "\n",
    "sc.tl.embedding_density(adata, basis='umap', groupby='geno_type',key_added='geno_type_density')\n",
    "sc.set_figure_params(figsize=(3, 3))\n",
    "sc.pl.embedding_density(\n",
    "    adata, \n",
    "    basis='umap',\n",
    "    key='geno_type_density',\n",
    "    color_map='coolwarm', \n",
    "    vmax=1,\n",
    "    save='genotype_density_2.pdf'\n",
    ")\n",
    "\n"
   ]
  },
  {
   "cell_type": "markdown",
   "id": "110813d7-c1a0-433d-9971-67787c87bdf5",
   "metadata": {},
   "source": [
    "# Fig1d"
   ]
  },
  {
   "cell_type": "code",
   "execution_count": null,
   "id": "5eec91df-ab35-4745-b874-cac19fc448f7",
   "metadata": {},
   "outputs": [],
   "source": [
    "custom_colors = {\n",
    "    'Mg_0': 'skyblue',    # Yellow#ffe119\n",
    "    'Mg_2': '#f58231',    # blue4363d8\n",
    "    'Mg_1': '#ffe119', #  Green#3cb44b\n",
    "    'Mg_6': '#e6194B', # Lime#3cb44b\n",
    "    'Mg_5': '#f032e6', # Bright Red\n",
    "    'Mg_7': '#fabed4', #  Orange#f58231 Magenta#f032e6 pink#fabed4\n",
    "    'Mg_3': '#3cb44b', # Olive#808000 4363d8\n",
    "    'Mg_4': '#4363d8' # Magenta#f032e6 Bright Red#e6194B     \n",
    "}\n",
    "df = adata.obs[['geno_type', 'celltype_5']]\n",
    "count_df = df.groupby(['geno_type', 'celltype_5']).size().unstack(fill_value=0)\n",
    "\n",
    "x_order = ['WT', 'E4', 'APP', 'TE4']\n",
    "count_df = count_df.reindex(x_order)\n",
    "#count_df = count_df[y_order]\n",
    "\n",
    "proportion_df = count_df.div(count_df.sum(axis=1), axis=0)\n",
    "\n",
    "colors = [custom_colors[col] for col in proportion_df.columns] \n",
    "ax = proportion_df.plot(kind='bar', stacked=True, figsize=(5, 4), color=colors)\n",
    "\n",
    "plt.title('Proportion of Microglia clusters')\n",
    "plt.xlabel('Genotypes')\n",
    "plt.ylabel('Proportion')\n",
    "\n",
    "plt.legend( bbox_to_anchor=(1.05, 1), loc='upper left')\n",
    "plt.tight_layout()\n",
    "\n",
    "plt.savefig(f'{output_folder}\\\\Mg_genotype_proportion_2.pdf', format='pdf', dpi=300, bbox_inches='tight')\n",
    "plt.show()\n"
   ]
  },
  {
   "cell_type": "code",
   "execution_count": null,
   "id": "dfbd382f-957b-4ab9-9279-355d9b467b85",
   "metadata": {},
   "outputs": [],
   "source": [
    "cluster_mapping = adata.obs['celltype_5'].to_dict()\n",
    "adata_whole.obs['celltype_5'] = adata_whole.obs_names.map(cluster_mapping)\n",
    "\n",
    "adata_whole.obs['celltype_5'].fillna('unknwon', inplace=True)"
   ]
  },
  {
   "cell_type": "code",
   "execution_count": null,
   "id": "8940c597-8d56-487c-a664-ddceae585f65",
   "metadata": {},
   "outputs": [],
   "source": [
    "adata_whole.obs['celltype_5_outline']=adata_whole.obs['celltype_5'].copy()\n",
    "\n",
    "adata_whole.obs['celltype_5_outline'] = adata_whole.obs['celltype_5_outline'].astype(str)\n",
    "adata_whole.obs['outline'] = adata_whole.obs['outline'].astype(str)\n",
    "\n",
    "labeled_cells = adata_whole.obs.index[adata_whole.obs['outline'].isin(['outline'])]\n",
    "adata_whole.obs.loc[labeled_cells, 'celltype_5_outline'] = adata_whole.obs.loc[labeled_cells, 'outline']\n",
    "\n",
    "adata_whole.obs['celltype_5_outline'] = adata_whole.obs['celltype_5_outline'].astype('category')"
   ]
  },
  {
   "cell_type": "code",
   "execution_count": null,
   "id": "e4fd4501-f144-4175-b11d-6359ca221b58",
   "metadata": {},
   "outputs": [],
   "source": [
    "adata_whole.obs['celltype_5_outline']"
   ]
  },
  {
   "cell_type": "code",
   "execution_count": null,
   "id": "559c0887-0bbb-4534-ab72-89c35c7c3538",
   "metadata": {},
   "outputs": [],
   "source": [
    "adata_app_wh=adata_whole[adata_whole.obs['batch']=='APP_1']\n",
    "adata_te4_wh=adata_whole[adata_whole.obs['batch']=='TE4_3']\n",
    "adata_wt_wh=adata_whole[adata_whole.obs['batch']=='WT_1']\n",
    "adata_e4_wh=adata_whole[adata_whole.obs['batch']=='E4_2']\n",
    "\n",
    "adata_app_mg=adata[adata.obs['batch']=='APP_1']\n",
    "adata_te4_mg=adata[adata.obs['batch']=='TE4_3']\n",
    "adata_wt_mg=adata[adata.obs['batch']=='WT_1']\n",
    "adata_e4_mg=adata[adata.obs['batch']=='E4_2']"
   ]
  },
  {
   "cell_type": "code",
   "execution_count": null,
   "id": "c27ca35d-a0b0-4e5e-9241-5c38ff8ad490",
   "metadata": {},
   "outputs": [],
   "source": [
    "custom_colors = {\n",
    "    'Mg_0': 'skyblue',    # Yellow#ffe119\n",
    "    'Mg_2': '#f58231',    # blue4363d8\n",
    "    'Mg_1': '#ffe119', #  Green#3cb44b\n",
    "    'Mg_6': '#e6194B', # Lime#3cb44b\n",
    "    'Mg_5': '#f032e6', # Bright Red\n",
    "    'Mg_7': '#fabed4', #  Orange#f58231 Magenta#f032e6 pink#fabed4\n",
    "    'Mg_3': '#3cb44b', # Olive#808000 4363d8\n",
    "    'Mg_4': '#4363d8' # Magenta#f032e6 Bright Red#e6194B     \n",
    "}\n",
    "\n",
    "def plot_cluster_scdata_str_diff(scdata, custom_colors, clusters=['DAM_1','DAM_2'], transpose=1, flipx=1, flipy=1, tag='cluster', key='X_spatial'):\n",
    "    \n",
    "    unique_clusters = [cluster for cluster in np.unique(scdata.obs[tag]) if cluster in clusters]\n",
    "    x, y = (np.array(scdata.obsm[key]) * [flipx, flipy])[:, ::transpose].T\n",
    "    plt.scatter(x, y, c='#E0E0E0', s=2, marker='.') \n",
    "   \n",
    "    for cluster in unique_clusters:\n",
    "        cluster_ = str(cluster)\n",
    "        inds = scdata.obs[tag] == cluster_\n",
    "        x_ = x[inds]\n",
    "        y_ = y[inds]\n",
    "        col = custom_colors.get(cluster_, 'grey')  \n",
    "        if cluster_ == 'outline':\n",
    "            s = 3  \n",
    "        else:\n",
    "            s = 200  \n",
    "        plt.scatter(x_, y_, c=col, s=s, marker='.', label=cluster_)\n",
    "    \n",
    "    plt.grid(False)\n",
    "    plt.axis(\"off\")\n",
    "    plt.axis(\"equal\")\n",
    "    #plt.legend(loc='upper right')\n",
    "    plt.tight_layout()\n",
    "    return plt.gcf()\n"
   ]
  },
  {
   "cell_type": "code",
   "execution_count": null,
   "id": "7d93c752-f99f-4088-8899-7e5db7b6fd25",
   "metadata": {},
   "outputs": [],
   "source": [
    "fig = plt.figure(figsize=(6, 6), facecolor=\"white\")\n",
    "fig = plot_cluster_scdata_str_diff(adata_te4_wh, custom_colors, clusters=['outline','Mg_0','Mg_3','Mg_6','Mg_7'], transpose=1, flipx=-1, flipy=1, tag='celltype_5_outline', key='X_spatial')\n",
    "plt.savefig(f'{output_folder}\\\\mgcluster_TE4_mg0367_outline_2.tif', format='tif', dpi=300, bbox_inches='tight')\n",
    "plt.show()"
   ]
  },
  {
   "cell_type": "code",
   "execution_count": null,
   "id": "7d03d787-4de4-4dcf-9acb-bc8529165150",
   "metadata": {},
   "outputs": [],
   "source": [
    "fig = plt.figure(figsize=(6, 6), facecolor=\"white\")\n",
    "fig = plot_cluster_scdata_str_diff(adata_app_wh, custom_colors, clusters=['outline','Mg_0','Mg_3','Mg_6','Mg_7'], transpose=1, flipx=1, flipy=-1, tag='celltype_5_outline', key='X_spatial')\n",
    "plt.savefig(f'{output_folder}\\\\mgcluster_APP_mg0367_outline_2.tif', format='tif', dpi=300, bbox_inches='tight')\n",
    "plt.show()"
   ]
  },
  {
   "cell_type": "code",
   "execution_count": null,
   "id": "1fd4f189-24bd-441a-9a21-a579641fec8c",
   "metadata": {},
   "outputs": [],
   "source": [
    "fig = plt.figure(figsize=(6, 6), facecolor=\"white\")\n",
    "fig = plot_cluster_scdata_str_diff(adata_app_wh, custom_colors, clusters=['outline','Mg_2','Mg_1','Mg_4','Mg_5'], transpose=1, flipx=1, flipy=-1, tag='celltype_5_outline', key='X_spatial')\n",
    "plt.savefig(f'{output_folder}\\\\mgcluster_APP_mg1245_outline_2.tif', format='tif', dpi=300, bbox_inches='tight')\n",
    "plt.show()"
   ]
  },
  {
   "cell_type": "code",
   "execution_count": null,
   "id": "0a0cbf58-17c0-4ac9-8e8a-d1352963ded3",
   "metadata": {},
   "outputs": [],
   "source": [
    "fig = plt.figure(figsize=(6, 6), facecolor=\"white\")\n",
    "fig = plot_cluster_scdata_str_diff(adata_wt_wh, custom_colors, clusters=['outline','Mg_0','Mg_3','Mg_6','Mg_7'], transpose=1, flipx=-1, flipy=1, tag='celltype_5_outline', key='X_spatial')\n",
    "plt.savefig(f'{output_folder}\\\\mgcluster_WT_mg0367_outline_2.tif', format='tif', dpi=300, bbox_inches='tight')\n",
    "plt.show()"
   ]
  },
  {
   "cell_type": "code",
   "execution_count": null,
   "id": "7210368d-df61-447f-9657-f63cd358a92a",
   "metadata": {},
   "outputs": [],
   "source": [
    "fig = plt.figure(figsize=(6, 6), facecolor=\"white\")\n",
    "fig = plot_cluster_scdata_str_diff(adata_wt_wh, custom_colors, clusters=['outline','Mg_2','Mg_1','Mg_4','Mg_5'], transpose=1, flipx=-1, flipy=1, tag='celltype_5_outline', key='X_spatial')\n",
    "plt.savefig(f'{output_folder}\\\\mgcluster_WT_mg1245_outline_2.tif', format='tif', dpi=300, bbox_inches='tight')\n",
    "plt.show()"
   ]
  },
  {
   "cell_type": "code",
   "execution_count": null,
   "id": "8a0764f9-5b41-4ed7-a52e-931337af522b",
   "metadata": {},
   "outputs": [],
   "source": [
    "fig = plt.figure(figsize=(6, 6), facecolor=\"white\")\n",
    "fig = plot_cluster_scdata_str_diff(adata_e4_wh, custom_colors, clusters=['outline','Mg_0','Mg_3','Mg_6','Mg_7'], transpose=1, flipx=1, flipy=1, tag='celltype_5_outline', key='X_spatial')\n",
    "plt.savefig(f'{output_folder}\\\\mgcluster_E4_mg0367_outline_2.tif', format='tif', dpi=300, bbox_inches='tight')\n",
    "#plt.savefig(f'{output_folder}\\\\mgcluster_WT_mg1245_outline_1.tif', format='tif', dpi=300, bbox_inches='tight')\n",
    "plt.show()"
   ]
  },
  {
   "cell_type": "code",
   "execution_count": null,
   "id": "662846c3-683b-4ffc-8b3a-13cc9dd985a7",
   "metadata": {},
   "outputs": [],
   "source": [
    "fig = plt.figure(figsize=(6, 6), facecolor=\"white\")\n",
    "fig = plot_cluster_scdata_str_diff(adata_e4_wh, custom_colors, clusters=['outline','Mg_2','Mg_1','Mg_4','Mg_5'], transpose=1, flipx=1, flipy=1, tag='celltype_5_outline', key='X_spatial')\n",
    "#plt.savefig(f'{output_folder}\\\\mgcluster_E4_mg0367_outline_1.tif', format='tif', dpi=300, bbox_inches='tight')\n",
    "plt.savefig(f'{output_folder}\\\\mgcluster_E4_mg1245_outline_2.tif', format='tif', dpi=300, bbox_inches='tight')\n",
    "plt.show()"
   ]
  },
  {
   "cell_type": "markdown",
   "id": "576d92f8-a30a-436d-b063-570fbb6d4ba0",
   "metadata": {},
   "source": [
    "# Extended Fig2b"
   ]
  },
  {
   "cell_type": "code",
   "execution_count": null,
   "id": "572f928e-7299-466a-91d3-61bc646d6326",
   "metadata": {},
   "outputs": [],
   "source": [
    "import matplotlib.pyplot as plt\n",
    "import os\n",
    "import pandas as pd\n",
    "import numpy as np\n",
    "\n",
    "batch_to_genotype = {\n",
    "    'APP_1': 'APP', 'APP_2': 'APP', 'APP_3': 'APP', 'APP_4': 'APP',\n",
    "    'E4_1': 'E4', 'E4_2': 'E4',\n",
    "    'TE4_1': 'TE4', 'TE4_2': 'TE4', 'TE4_3': 'TE4', 'TE4_4': 'TE4',\n",
    "    'WT_1': 'WT', 'WT_2': 'WT'\n",
    "}\n",
    "\n",
    "adata.obs['geno_type'] = adata.obs['batch'].map(batch_to_genotype)\n",
    "\n",
    "all_data = []\n",
    "for cell_class in adata.obs['celltype_5'].unique():\n",
    "    adata_temp = adata[adata.obs['celltype_5'] == cell_class]\n",
    "    adata_temp.obs['geno_type'] = adata_temp.obs['batch'].map(batch_to_genotype)\n",
    "    total_counts_batch = adata.obs['batch'].value_counts()\n",
    "    temp_counts_batch = adata_temp.obs['batch'].value_counts()\n",
    "    counts_df_batch = pd.DataFrame({\n",
    "        'Total': total_counts_batch,\n",
    "        'Temp': temp_counts_batch\n",
    "    }).fillna(0)\n",
    "\n",
    "    counts_df_batch['Percentage'] = (counts_df_batch['Temp'] / counts_df_batch['Total']) * 100\n",
    "    counts_df_batch['geno_type'] = counts_df_batch.index.map(batch_to_genotype)\n",
    "    genotype_stats = counts_df_batch.groupby('geno_type').agg(\n",
    "        Mean_Percentage=('Percentage', 'mean'),\n",
    "        Std_Percentage=('Percentage', 'std')\n",
    "    )\n",
    "\n",
    "    genotype_stats['celltype_5'] = cell_class\n",
    "    all_data.append(genotype_stats)\n",
    "\n",
    "all_data_df = pd.concat(all_data)\n",
    "all_data_df = all_data_df.reset_index()\n",
    "\n",
    "custom_order = ['WT', 'E4', 'APP', 'TE4']\n",
    "\n",
    "all_data_df['geno_type'] = pd.Categorical(all_data_df['geno_type'], categories=custom_order, ordered=True)\n",
    "all_data_df = all_data_df.sort_values(by=['celltype_5', 'geno_type'])\n",
    "\n",
    "color_map = {\n",
    "    'WT': 'skyblue',\n",
    "    'E4': '#bfef45',\n",
    "    'APP': '#fabed4',\n",
    "    'TE4': '#ec008c'\n",
    "}\n",
    "all_data_df['color'] = all_data_df['geno_type'].map(color_map)\n",
    "\n",
    "class_names = all_data_df['celltype_5'].unique()\n",
    "num_genotypes = len(custom_order)\n",
    "x_positions = []\n",
    "\n",
    "spacing = 1.5  \n",
    "bar_width = 0.8\n",
    "\n",
    "for i, class_name in enumerate(class_names):\n",
    "    class_data_len = len(all_data_df[all_data_df['celltype_5'] == class_name])\n",
    "    start_pos = i * (num_genotypes + spacing)\n",
    "    x_positions.extend(np.arange(start_pos, start_pos + class_data_len))\n",
    "\n",
    "plt.figure(figsize=(8, 6))\n",
    "plt.bar(x_positions, all_data_df['Mean_Percentage'], \n",
    "        yerr=all_data_df['Std_Percentage'], color=all_data_df['color'], capsize=4, width=bar_width)\n",
    "\n",
    "plt.title('Total Percentage of Each Class by Genotype')\n",
    "plt.xlabel('Class')\n",
    "plt.ylabel('Percentage (%)')\n",
    "\n",
    "class_ticks = [np.mean(x_positions[i * num_genotypes:(i + 1) * num_genotypes]) for i in range(len(class_names))]\n",
    "plt.xticks(class_ticks, class_names, rotation=0)\n",
    "\n",
    "legend_labels = [plt.Line2D([0], [0], color=color_map[geno], lw=4) for geno in custom_order]\n",
    "plt.legend(legend_labels, custom_order, title=\"Genotype\", loc='upper right')\n",
    "\n",
    "plt.tight_layout()\n",
    "\n",
    "output_path = os.path.join(output_folder, 'combined_class_genotype_percentage_colored_plot_use_5.pdf')\n",
    "plt.savefig(output_path, format='pdf', dpi=300, bbox_inches='tight')\n",
    "plt.show()\n"
   ]
  },
  {
   "cell_type": "code",
   "execution_count": null,
   "id": "8e512ef8-b2e1-484d-80d0-3dc0f183c14d",
   "metadata": {},
   "outputs": [],
   "source": []
  }
 ],
 "metadata": {
  "kernelspec": {
   "display_name": "Python 3 (ipykernel)",
   "language": "python",
   "name": "python3"
  },
  "language_info": {
   "codemirror_mode": {
    "name": "ipython",
    "version": 3
   },
   "file_extension": ".py",
   "mimetype": "text/x-python",
   "name": "python",
   "nbconvert_exporter": "python",
   "pygments_lexer": "ipython3",
   "version": "3.9.19"
  }
 },
 "nbformat": 4,
 "nbformat_minor": 5
}
