{
 "cells": [
  {
   "cell_type": "code",
   "execution_count": null,
   "id": "40302b73-6293-48bf-80b8-051dc653ffd1",
   "metadata": {},
   "outputs": [],
   "source": [
    "import imageio as io\n",
    "import pandas as pd\n",
    "import os\n",
    "import matplotlib.pyplot as plt\n",
    "import numpy as np\n",
    "import tifffile\n",
    "from tqdm.notebook import tqdm\n",
    "import pathlib\n",
    "from cellpose import models, core\n",
    "import json\n",
    "import glob\n",
    "import PIL\n",
    "import scanpy as sc\n",
    "\n",
    "PIL.Image.MAX_IMAGE_PIXELS = 9999999999999999\n",
    "\n",
    "image_path = 'data'\n",
    "experiment_name = 'DH_r1'"
   ]
  },
  {
   "cell_type": "markdown",
   "id": "e691ef77-ca90-4b29-9a00-1db8f5b53e72",
   "metadata": {},
   "source": [
    "# Load Dapi"
   ]
  },
  {
   "cell_type": "code",
   "execution_count": null,
   "id": "8091bdee-963a-4e59-a4f7-36e3c7c3fa11",
   "metadata": {},
   "outputs": [],
   "source": [
    "dapi_images = glob.glob('output/region_1/images/*DAPI*')\n",
    "\n",
    "image_array_list = []\n",
    "ctr = 0\n",
    "for path in dapi_images:\n",
    "    img_fpath = pathlib.Path(path)\n",
    "    img = io.imread(img_fpath)\n",
    "    image_array_list.append(img)\n",
    "    image_array_list = np.array(image_array_list)  \n",
    "    print(np.shape(image_array_list))\n",
    "    if ctr != 0:\n",
    "        image_array_list = list([np.max(image_array_list, axis = 0)])\n",
    "    else:\n",
    "        image_array_list = list(image_array_list)\n",
    "    print(ctr)\n",
    "    ctr += 1\n"
   ]
  },
  {
   "cell_type": "code",
   "execution_count": null,
   "id": "280cd0b4-71eb-43f6-bdc5-24a7be18f6a0",
   "metadata": {},
   "outputs": [],
   "source": [
    "maxed_image = np.array(image_array_list[0])"
   ]
  },
  {
   "cell_type": "code",
   "execution_count": null,
   "id": "352633b0-14cf-499c-98eb-d2f4511f59dd",
   "metadata": {},
   "outputs": [],
   "source": [
    "\n",
    "def read_dapi_image(path: str, downscale_factor: int = 2) -> np.ndarray:\n",
    "    img_fpath = pathlib.Path(path)\n",
    "    img = io.imread(img_fpath)\n",
    "    return downscale_image(img, downscale_factor=downscale_factor)\n",
    "\n",
    "def downscale_image(img: np.ndarray, downscale_factor: int = 2) -> np.ndarray:\n",
    "    # Calculate the amount \n",
    "    # \n",
    "    # of padding needed for each axis\n",
    "    pad_height = (downscale_factor - img.shape[0] % downscale_factor) % downscale_factor\n",
    "    pad_width = (downscale_factor - img.shape[1] % downscale_factor) % downscale_factor\n",
    "\n",
    "    # Pad the array with zeros\n",
    "    img = np.pad(img, ((0, pad_height), (0, pad_width)), mode='constant')\n",
    "    return img\n"
   ]
  },
  {
   "cell_type": "markdown",
   "id": "b406a11d-e68b-4f5b-becb-02e829717588",
   "metadata": {},
   "source": [
    "# Run Cellpose"
   ]
  },
  {
   "cell_type": "code",
   "execution_count": null,
   "id": "a1e10b0f-6a01-4401-a0e0-dcd1eb7076f0",
   "metadata": {},
   "outputs": [],
   "source": [
    "def run_cellpose(img: np.ndarray, model_path: str) -> (np.ndarray, np.ndarray, np.ndarray):\n",
    "    use_GPU = core.use_gpu()\n",
    "    model = models.CellposeModel(gpu=use_GPU, pretrained_model= model_path  )\n",
    "    channels = [0,0]\n",
    "    masks, flows, styles = model.eval([img], channels=channels, diameter=model.diam_labels,flow_threshold=0, cellprob_threshold=0)\n",
    "    return (masks, flows, styles)\n"
   ]
  },
  {
   "cell_type": "code",
   "execution_count": null,
   "id": "568580f6-62a8-46fe-9e60-845b144bd6b5",
   "metadata": {},
   "outputs": [],
   "source": [
    "masks, flows, styles = run_cellpose(\n",
    "    maxed_image,\n",
    "    model_path = r'models/DAPI'\n",
    ")"
   ]
  },
  {
   "cell_type": "markdown",
   "id": "72c23162-de9c-4ef8-bb61-b4b2780c672e",
   "metadata": {},
   "source": [
    "Plot and save segmentation"
   ]
  },
  {
   "cell_type": "code",
   "execution_count": null,
   "id": "1eb527e3-2f76-4433-9c24-cc7a8b4d9eab",
   "metadata": {},
   "outputs": [],
   "source": [
    "plt.imshow(masks[0])"
   ]
  },
  {
   "cell_type": "markdown",
   "id": "148fc126-21f8-4988-b348-e0dd0a64e87d",
   "metadata": {},
   "source": [
    "## Add the new segmentation to the transcripts.csv"
   ]
  },
  {
   "cell_type": "code",
   "execution_count": null,
   "id": "2e3ca54e-f59a-47a8-b8a4-d7fcffa2b50a",
   "metadata": {},
   "outputs": [],
   "source": [
    "detected_transcripts = pd.read_csv(os.path.join(image_path, experiment_name, f'detected_transcripts.csv'), index_col=0)\n",
    "detected_transcripts"
   ]
  },
  {
   "cell_type": "markdown",
   "id": "a7abb448-6a39-4309-85bc-19e674d08751",
   "metadata": {},
   "source": [
    "Get the pixel to um conversion"
   ]
  },
  {
   "cell_type": "code",
   "execution_count": null,
   "id": "222f3cff",
   "metadata": {},
   "outputs": [],
   "source": [
    "def get_pixel_size(path: str) -> float:\n",
    "    file = pd.read_csv(os.path.join(path, experiment_name, f'micron_to_mosaic_pixel_transform.csv'), index_col=None, header=None)\n",
    "    return file\n",
    "\n",
    "pixel_size = get_pixel_size(xenium_path).values\n",
    "pixel_size"
   ]
  },
  {
   "cell_type": "code",
   "execution_count": null,
   "id": "774c7713-8738-47ae-adb0-5617867fc645",
   "metadata": {},
   "outputs": [],
   "source": [
    "detected_transcripts['global_x_pixels'] = (detected_transcripts.global_x.values*(float(pixel_size[0][0].split()[0]))) + float(pixel_size[0][0].split()[2])\n",
    "detected_transcripts['global_y_pixels'] = (detected_transcripts.global_y.values*(float(pixel_size[1][0].split()[1]))) + float(pixel_size[1][0].split()[2])"
   ]
  },
  {
   "cell_type": "code",
   "execution_count": null,
   "id": "b26e4317-0948-4c97-bffb-f8cdb98699ef",
   "metadata": {},
   "outputs": [],
   "source": [
    "detected_cells = masks[0][detected_transcripts.global_y_pixels.values.astype(int), detected_transcripts.global_x_pixels.values.astype(int)]\n",
    "detected_transcripts['cell_id'] = detected_cells\n",
    "detected_transcripts['overlaps_nucleus'] = (detected_cells > 0).astype(int)\n",
    "detected_transcripts"
   ]
  },
  {
   "cell_type": "code",
   "execution_count": null,
   "id": "c64f65ef",
   "metadata": {},
   "outputs": [],
   "source": [
    "plt.imshow(masks[0])\n",
    "plt.scatter(detected_transcripts.global_x_pixels, detected_transcripts.global_y_pixels, cmap='tab20', s=1, alpha=0.02)"
   ]
  },
  {
   "cell_type": "code",
   "execution_count": null,
   "id": "d49775f7",
   "metadata": {},
   "outputs": [],
   "source": [
    "detected_cells = masks[0][detected_transcripts.global_y_pixels.values.astype(int), detected_transcripts.global_x_pixels.values.astype(int)]"
   ]
  },
  {
   "cell_type": "code",
   "execution_count": null,
   "id": "a4b33b35",
   "metadata": {},
   "outputs": [],
   "source": [
    "cross_tab = pd.crosstab(index=detected_cells,\n",
    "                        columns=detected_transcripts['gene'].values)"
   ]
  },
  {
   "cell_type": "code",
   "execution_count": null,
   "id": "2edac90b",
   "metadata": {},
   "outputs": [],
   "source": [
    "cross_tab = cross_tab[np.array(cross_tab.index.tolist()) % 10000 != 0]"
   ]
  },
  {
   "cell_type": "code",
   "execution_count": null,
   "id": "c9c06aec",
   "metadata": {},
   "outputs": [],
   "source": [
    "cross_tab = cross_tab[np.sum(cross_tab.values, axis=1) > 1]"
   ]
  },
  {
   "cell_type": "code",
   "execution_count": null,
   "id": "b858e78f",
   "metadata": {},
   "outputs": [],
   "source": [
    "\n",
    "adata = sc.AnnData(X=cross_tab.values, var=pd.DataFrame(index=cross_tab.columns), obs=pd.DataFrame(index=cross_tab.index.tolist()))"
   ]
  },
  {
   "cell_type": "code",
   "execution_count": null,
   "id": "9f314ba1",
   "metadata": {},
   "outputs": [],
   "source": [
    "sc.tl.pca(adata)\n",
    "sc.pp.neighbors(adata)\n",
    "sc.tl.umap(adata)"
   ]
  },
  {
   "cell_type": "code",
   "execution_count": null,
   "id": "29776dc6",
   "metadata": {},
   "outputs": [],
   "source": [
    "sc.pl.umap(adata, color='Tmem119', vmax=4)"
   ]
  },
  {
   "cell_type": "code",
   "execution_count": null,
   "id": "c38bcd0b",
   "metadata": {},
   "outputs": [],
   "source": [
    "try:\n",
    "    os.mkdir(os.path.join('output', f'{experiment_name}'))\n",
    "except:\n",
    "    None"
   ]
  },
  {
   "cell_type": "code",
   "execution_count": null,
   "id": "1d8c7484",
   "metadata": {},
   "outputs": [],
   "source": [
    "adata.write(os.path.join('output', f'{experiment_name}', f'{experiment_name}_adata.h5ad'))"
   ]
  },
  {
   "cell_type": "code",
   "execution_count": null,
   "id": "e6d85563",
   "metadata": {},
   "outputs": [],
   "source": [
    "image_compare = masks[0].astype(int)\n",
    "\n",
    "unique_values = adata.obs.index.astype(float).astype(int)\n",
    "cell_locations = np.unique(image_compare, return_index=True)\n",
    "\n",
    "x_coord=cell_locations[1]//np.shape(image_compare)[0]\n",
    "y_coord=cell_locations[1]%np.shape(image_compare)[1]\n",
    "\n",
    "cells = cell_locations[0]\n",
    "data = pd.DataFrame(zip(x_coord, y_coord), index=cells, columns=['x', 'y'])\n",
    "xy_adata= data.loc[unique_values.tolist()].values\n",
    "\n",
    "adata.obs['x'] = xy_adata[:,0]\n",
    "adata.obs['y'] = xy_adata[:,1]\n",
    "\n",
    "adata.obsm['X_spatial'] = xy_adata\n",
    "\n",
    "sc.pp.calculate_qc_metrics(adata, inplace=True)\n",
    "\n",
    "sc.pl.embedding(adata, basis='spatial', color='total_counts', size=20, vmax=3000)\n",
    "\n",
    "adata.write(os.path.join('output', f'{experiment_name}', f'{experiment_name}_adata_processed.h5ad'))"
   ]
  },
  {
   "cell_type": "code",
   "execution_count": null,
   "id": "81e3a478",
   "metadata": {},
   "outputs": [],
   "source": [
    "detected_transcripts.to_csv(os.path.join('output', f'{experiment_name}', \"transcripts_cellpose.csv\"))"
   ]
  },
  {
   "cell_type": "code",
   "execution_count": null,
   "id": "471b43a6",
   "metadata": {},
   "outputs": [],
   "source": []
  }
 ],
 "metadata": {
  "kernelspec": {
   "display_name": "Python 3 (ipykernel)",
   "language": "python",
   "name": "python3"
  },
  "language_info": {
   "codemirror_mode": {
    "name": "ipython",
    "version": 3
   },
   "file_extension": ".py",
   "mimetype": "text/x-python",
   "name": "python",
   "nbconvert_exporter": "python",
   "pygments_lexer": "ipython3",
   "version": "3.9.19"
  }
 },
 "nbformat": 4,
 "nbformat_minor": 5
}
