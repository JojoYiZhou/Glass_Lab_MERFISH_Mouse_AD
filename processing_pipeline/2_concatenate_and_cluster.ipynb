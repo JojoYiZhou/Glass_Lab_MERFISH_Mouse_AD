{
 "cells": [
  {
   "cell_type": "code",
   "execution_count": null,
   "id": "a3def033-557e-4e89-aa88-0aca954fd7cc",
   "metadata": {},
   "outputs": [],
   "source": [
    "import pickle\n",
    "import seaborn as sns\n",
    "import imageio as io\n",
    "import pandas as pd\n",
    "import os\n",
    "import matplotlib.pyplot as plt\n",
    "import numpy as np\n",
    "import tifffile\n",
    "from tqdm.notebook import tqdm\n",
    "import pathlib\n",
    "from cellpose import models, core\n",
    "import json\n",
    "import glob\n",
    "import PIL\n",
    "import scanpy as sc"
   ]
  },
  {
   "cell_type": "code",
   "execution_count": null,
   "id": "c8af260d-da2e-45f9-baeb-7b637369efe6",
   "metadata": {},
   "outputs": [],
   "source": [
    "meta_data_file=pd.read_csv(r'240719AnalysisMeta.txt', header=None, delimiter=' ',index_col=0)\n",
    "meta_data_file.columns = ['sample_name', 'genotype','Sex','Age','adata','adata_conc','adata_name','adata_dir']\n",
    "meta_data_reordered = meta_data_file[['adata_name', 'genotype', 'Sex', 'Age']]\n",
    "meta_data_file_cleaned = meta_data_reordered.drop([7, 8, 11, 12, 17])\n",
    "meta_data_file_cleaned"
   ]
  },
  {
   "cell_type": "code",
   "execution_count": null,
   "id": "09ab3a51-85ee-4d53-b7cc-8571a2fb4617",
   "metadata": {},
   "outputs": [],
   "source": [
    "data_path = os.path.join('MERFISH','data', '240719AnalysisDAM_TERM', 'figs')\n"
   ]
  },
  {
   "cell_type": "code",
   "execution_count": null,
   "id": "c7710320-f79e-4f74-8381-e7ca6cf18a0e",
   "metadata": {},
   "outputs": [],
   "source": [
    "file_path = os.path.join(data_path, 'f0_adata_1.h5ad')\n",
    "adata_1=sc.read(file_path)\n",
    "adata_1.obs['batch']='E4_1'\n",
    "adata_1"
   ]
  },
  {
   "cell_type": "code",
   "execution_count": null,
   "id": "e3173315-a642-4a07-a68d-53aad2d807fc",
   "metadata": {},
   "outputs": [],
   "source": [
    "file_path = os.path.join(data_path, 'f0_adata_2.h5ad')\n",
    "adata_2=sc.read(file_path)\n",
    "adata_2.obs['batch']='E4_2'\n",
    "adata_2"
   ]
  },
  {
   "cell_type": "code",
   "execution_count": null,
   "id": "9818e955-91c7-49c0-8989-cf4898d7839f",
   "metadata": {},
   "outputs": [],
   "source": [
    "file_path = os.path.join(data_path, 'f0_adata_3.h5ad')\n",
    "adata_3=sc.read(file_path)\n",
    "adata_3.obs['batch']='TE4_1'\n",
    "adata_3"
   ]
  },
  {
   "cell_type": "code",
   "execution_count": null,
   "id": "5cffea12-51a8-4777-b7ef-631d64616372",
   "metadata": {},
   "outputs": [],
   "source": [
    "file_path = os.path.join(data_path, 'f0_adata_4.h5ad')\n",
    "adata_4=sc.read(file_path)\n",
    "adata_4.obs['batch']='TE4_2'\n",
    "adata_4"
   ]
  },
  {
   "cell_type": "code",
   "execution_count": null,
   "id": "16691284-5791-4a63-b522-10263d0e7c71",
   "metadata": {},
   "outputs": [],
   "source": [
    "file_path = os.path.join(data_path, 'f0_adata_5.h5ad')\n",
    "adata_5=sc.read(file_path)\n",
    "adata_5.obs['batch']='APP_1'\n",
    "adata_5"
   ]
  },
  {
   "cell_type": "code",
   "execution_count": null,
   "id": "5fada468-7b64-482c-8a74-902188f6843c",
   "metadata": {},
   "outputs": [],
   "source": [
    "file_path = os.path.join(data_path, 'f0_adata_6.h5ad')\n",
    "adata_6=sc.read(file_path)\n",
    "adata_6.obs['batch']='APP_2'\n",
    "adata_6"
   ]
  },
  {
   "cell_type": "code",
   "execution_count": null,
   "id": "19ff3949-b949-4ca8-9705-88c11136676b",
   "metadata": {},
   "outputs": [],
   "source": [
    "file_path = os.path.join(data_path, 'f0_adata_9.h5ad')\n",
    "adata_9=sc.read(file_path)\n",
    "adata_9.obs['batch']='TE4_3'\n",
    "adata_9"
   ]
  },
  {
   "cell_type": "code",
   "execution_count": null,
   "id": "981cbb6c-1189-4f55-ae8e-eb0a08f1f4ac",
   "metadata": {},
   "outputs": [],
   "source": [
    "file_path = os.path.join(data_path, 'f0_adata_10.h5ad')\n",
    "adata_10=sc.read(file_path)\n",
    "adata_10.obs['batch']='TE4_4'\n",
    "adata_10"
   ]
  },
  {
   "cell_type": "code",
   "execution_count": null,
   "id": "299540ab-ab47-47f3-be05-9451777e9e50",
   "metadata": {},
   "outputs": [],
   "source": [
    "file_path = os.path.join(data_path, 'f0_adata_13.h5ad')\n",
    "adata_13=sc.read(file_path)\n",
    "adata_13.obs['batch']='APP_3'\n",
    "adata_13"
   ]
  },
  {
   "cell_type": "code",
   "execution_count": null,
   "id": "13d2b9cc-0924-40b4-9dad-663129f5736c",
   "metadata": {},
   "outputs": [],
   "source": [
    "file_path = os.path.join(data_path, 'f0_adata_14.h5ad')\n",
    "adata_14=sc.read(file_path)\n",
    "adata_14.obs['batch']='APP_4'\n",
    "adata_14"
   ]
  },
  {
   "cell_type": "code",
   "execution_count": null,
   "id": "eaf203a7-0a35-40ac-a185-54c3b88a4dd4",
   "metadata": {},
   "outputs": [],
   "source": [
    "file_path = os.path.join(data_path, 'f0_adata_15.h5ad')\n",
    "adata_15=sc.read(file_path)\n",
    "adata_15.obs['batch']='WT_1'\n",
    "adata_15"
   ]
  },
  {
   "cell_type": "code",
   "execution_count": null,
   "id": "8047fa7b-e518-4a49-8ad2-8136ed3305ce",
   "metadata": {},
   "outputs": [],
   "source": [
    "file_path = os.path.join(data_path, 'f0_adata_16.h5ad')\n",
    "adata_16=sc.read(file_path)\n",
    "adata_16.obs['batch']='WT_2'\n",
    "adata_16"
   ]
  },
  {
   "cell_type": "code",
   "execution_count": null,
   "id": "5d9251b3-95b7-404e-bfd2-b9b3f8bda409",
   "metadata": {},
   "outputs": [],
   "source": [
    "\n",
    "from anndata import AnnData\n",
    "batch_names=['E4_1','E4_2','TE4_1','TE4_2','APP_1','APP_2','TE4_3','TE4_4','APP_3','APP_4','WT_1','WT_2']\n",
    "adata=AnnData.concatenate(adata_1, adata_2,adata_3, adata_4,adata_5,adata_6,adata_9,adata_10,adata_13,adata_14,adata_15,adata_16, batch_key='batch',batch_categories=batch_names)\n"
   ]
  },
  {
   "cell_type": "code",
   "execution_count": null,
   "id": "dae6a779-77eb-4ad7-9698-be85f8827043",
   "metadata": {},
   "outputs": [],
   "source": [
    "sc.pl.violin(adata, ['n_genes_by_counts', 'total_counts', 'pct_counts_Blank'],\n",
    "             jitter=0.4, multi_panel=True)"
   ]
  },
  {
   "cell_type": "code",
   "execution_count": null,
   "id": "af4500e9-1d76-41e3-b6de-9911ac3de8fd",
   "metadata": {},
   "outputs": [],
   "source": [
    "sc.pl.scatter(adata, x='total_counts', y='pct_counts_Blank')\n",
    "sc.pl.scatter(adata, x='total_counts', y='n_genes_by_counts')"
   ]
  },
  {
   "cell_type": "code",
   "execution_count": null,
   "id": "a3f8391d-6aef-4894-9364-ceeed182ac0e",
   "metadata": {},
   "outputs": [],
   "source": [
    "exp = adata.to_df().sum(axis=1)\n",
    "exp.hist(bins=200)"
   ]
  },
  {
   "cell_type": "code",
   "execution_count": null,
   "id": "d851633a-94c1-4251-ad25-341205917e97",
   "metadata": {},
   "outputs": [],
   "source": [
    "np.median(exp)"
   ]
  },
  {
   "cell_type": "code",
   "execution_count": null,
   "id": "2e7561bd-4f1b-4cdd-961a-07433f16932e",
   "metadata": {},
   "outputs": [],
   "source": [
    "min_expression = 10\n",
    "keep_cells = exp[exp > min_expression].index.tolist()\n",
    "adata = adata[keep_cells]\n",
    "adata\n",
    "exp = adata.to_df().sum(axis=1)\n",
    "exp.hist(bins=200)"
   ]
  },
  {
   "cell_type": "code",
   "execution_count": null,
   "id": "89f805fe-9aef-4b48-837a-3b407e862069",
   "metadata": {},
   "outputs": [],
   "source": [
    "sc.pl.highest_expr_genes(adata, n_top=20 )"
   ]
  },
  {
   "cell_type": "code",
   "execution_count": null,
   "id": "9729408d-fb8e-4d51-876c-541e7ff34626",
   "metadata": {},
   "outputs": [],
   "source": [
    "adata.write(r'f0_adata_concat_raw.h5ad')"
   ]
  },
  {
   "cell_type": "code",
   "execution_count": null,
   "id": "9e336202-c7f8-43e3-857b-de2b9072e539",
   "metadata": {},
   "outputs": [],
   "source": [
    "adata.X"
   ]
  },
  {
   "cell_type": "markdown",
   "id": "e9d78386-b0ff-4fb3-8a0d-b5cff236ff40",
   "metadata": {},
   "source": [
    "# Normalization\n"
   ]
  },
  {
   "cell_type": "code",
   "execution_count": null,
   "id": "154c59a4-da41-46b1-a060-065d0956d68c",
   "metadata": {},
   "outputs": [],
   "source": [
    "sc.pp.normalize_total(adata, target_sum=np.median(adata.obs[\"total_counts\"]))\n",
    "sc.pp.log1p(adata)\n"
   ]
  },
  {
   "cell_type": "code",
   "execution_count": null,
   "id": "279ce9fc-d0a5-436f-bed4-7d9e8f19fd40",
   "metadata": {},
   "outputs": [],
   "source": [
    "sc.pp.highly_variable_genes(adata, min_mean=0.0125, max_mean=3, min_disp=0.5)\n",
    "sc.pl.highly_variable_genes(adata)"
   ]
  },
  {
   "cell_type": "code",
   "execution_count": null,
   "id": "a48e605d-7bf5-4a38-b7a5-e218bd7301f9",
   "metadata": {},
   "outputs": [],
   "source": [
    "hvg = adata.var[adata.var['highly_variable']].index.tolist()\n",
    "print(len(hvg),list(np.unique(hvg)))"
   ]
  },
  {
   "cell_type": "code",
   "execution_count": null,
   "id": "745244e2-8dbe-4819-bf86-ab5a94e4afb2",
   "metadata": {},
   "outputs": [],
   "source": [
    "adata.raw=adata"
   ]
  },
  {
   "cell_type": "code",
   "execution_count": null,
   "id": "0419b1ee-4277-4be2-9104-a48c658e6192",
   "metadata": {},
   "outputs": [],
   "source": [
    "adata.write(r'Z:\\GV1Backup\\AM\\data\\240719AnalysisDAM_TERM\\f0_adata_concat_norm.h5ad')\n"
   ]
  },
  {
   "cell_type": "markdown",
   "id": "bc26b55c-115b-493d-bef2-43da6059c83b",
   "metadata": {},
   "source": [
    "# PCA"
   ]
  },
  {
   "cell_type": "code",
   "execution_count": null,
   "id": "7618e2bf-06e2-4a88-aa5e-66f51788618c",
   "metadata": {},
   "outputs": [],
   "source": [
    "sc.pp.pca(adata)\n",
    "sc.pp.neighbors(adata,n_neighbors=10, n_pcs=40)"
   ]
  },
  {
   "cell_type": "code",
   "execution_count": null,
   "id": "26e497a0-76bf-406a-b169-e1f8ffb1e744",
   "metadata": {},
   "outputs": [],
   "source": [
    "sc.tl.umap(adata,random_state=9)\n",
    "sc.pl.umap(adata, color='Tmem119')"
   ]
  },
  {
   "cell_type": "code",
   "execution_count": null,
   "id": "2ae5f150-179e-4a5c-9c73-4476957af7c0",
   "metadata": {},
   "outputs": [],
   "source": [
    "sc.pl.umap(adata, color=['Tmem119','batch'])"
   ]
  },
  {
   "cell_type": "code",
   "execution_count": null,
   "id": "5981102f-6cb2-4c7b-ae49-cbac7c8e8b5d",
   "metadata": {},
   "outputs": [],
   "source": [
    "adata.write(r'f0_adata_concat_pca.h5ad')"
   ]
  },
  {
   "cell_type": "markdown",
   "id": "f683b277-0e10-4882-b805-42d991f7cde1",
   "metadata": {},
   "source": [
    "# Harmony and Yao_subclass\n",
    "\n"
   ]
  },
  {
   "cell_type": "code",
   "execution_count": null,
   "id": "f7d73797-e4a0-4405-8e75-9d41746bc120",
   "metadata": {
    "scrolled": true
   },
   "outputs": [],
   "source": [
    "import scanpy.external as sce\n",
    "sce.pp.harmony_integrate(adata, 'batch', max_iter_harmony = 10)\n"
   ]
  },
  {
   "cell_type": "code",
   "execution_count": null,
   "id": "0a5edf2f-e8b7-425c-8331-aef7ee10ec59",
   "metadata": {},
   "outputs": [],
   "source": [
    "sc.pp.pca(adata)\n",
    "sc.pp.neighbors(adata, use_rep='X_pca_harmony')\n",
    "sc.tl.umap(adata,random_state=9,min_dist=0.3,init_pos='X_pca_harmony')"
   ]
  },
  {
   "cell_type": "code",
   "execution_count": null,
   "id": "38bc2ea7-e5a3-41b5-91af-9d0146d1c33f",
   "metadata": {},
   "outputs": [],
   "source": [
    "sc.pl.umap(adata, color=['Tmem119','Spp1','batch'])\n"
   ]
  },
  {
   "cell_type": "code",
   "execution_count": null,
   "id": "c14b95b8-4434-4b49-8d1a-36511413c3fc",
   "metadata": {},
   "outputs": [],
   "source": [
    "sc.tl.leiden(adata,resolution=1, key_added='res1')\n",
    "sc.tl.leiden(adata,resolution=1.5, key_added='res1p5')\n",
    "sc.tl.leiden(adata,resolution=2, key_added='res2')\n",
    "sc.tl.leiden(adata,resolution=3, key_added='res3')"
   ]
  },
  {
   "cell_type": "markdown",
   "id": "9330d1a4-e6cc-4edf-aa46-6b27892b7efc",
   "metadata": {},
   "source": [
    "# sc.tl.paga(adata, groups='res3')"
   ]
  },
  {
   "cell_type": "code",
   "execution_count": null,
   "id": "8cb212cf-c18a-4587-88dd-5f96f9ac87a4",
   "metadata": {},
   "outputs": [],
   "source": [
    "sc.tl.paga(adata, groups='res3')"
   ]
  },
  {
   "cell_type": "code",
   "execution_count": null,
   "id": "bd49d07d-169c-46b8-907e-aa34543d8d5e",
   "metadata": {},
   "outputs": [],
   "source": [
    "sc.pl.paga(adata, threshold=1,fontoutline=1,color=['Tmem119','Aqp4','Olig2'])"
   ]
  },
  {
   "cell_type": "code",
   "execution_count": null,
   "id": "36ad76be-0b38-4284-be9a-fdba7b8701b9",
   "metadata": {},
   "outputs": [],
   "source": [
    "sc.tl.umap(adata, init_pos='paga', min_dist=0.2)"
   ]
  },
  {
   "cell_type": "code",
   "execution_count": null,
   "id": "e4db1de2-e8f8-4c84-a5a5-d394a257a3c0",
   "metadata": {},
   "outputs": [],
   "source": [
    "sc.pl.umap(adata, color=['Tmem119','Aqp4','Olig2','Slc17a7','Sst','Vtn'])"
   ]
  },
  {
   "cell_type": "code",
   "execution_count": null,
   "id": "dc0d388c-d87a-40c4-a0f5-79bc7e1672ab",
   "metadata": {},
   "outputs": [],
   "source": [
    "sc.pl.umap(adata, color=['res3','res2','res1p5','res1'])"
   ]
  },
  {
   "cell_type": "markdown",
   "id": "16cf0a42-1acb-4e93-8035-6e53bf2474ca",
   "metadata": {},
   "source": [
    "# Cell type Prediction"
   ]
  },
  {
   "cell_type": "code",
   "execution_count": null,
   "id": "f224158d-f10d-4df0-9216-ab9d23856f60",
   "metadata": {},
   "outputs": [],
   "source": [
    "adata_yao=sc.read(r'X:\\SC\\2022NatureYaoCTXHPF\\subsampled_to_500cellsPerCLuster.h5ad')"
   ]
  },
  {
   "cell_type": "code",
   "execution_count": null,
   "id": "68ec9580-75cf-4d15-a852-1a50fb013524",
   "metadata": {},
   "outputs": [],
   "source": [
    "genes_common=np.intersect1d(adata.var.index.tolist(),adata_yao.var.index.tolist())"
   ]
  },
  {
   "cell_type": "code",
   "execution_count": null,
   "id": "30ba226b-6207-43f7-9876-df4e5a607634",
   "metadata": {},
   "outputs": [],
   "source": [
    "genes_common=np.intersect1d(adata.var.index.tolist(),adata_yao.var.index.tolist())\n",
    "from sklearn.ensemble import RandomForestClassifier\n",
    "X_train = adata_yao[:, genes_common].X  # Feature matrix for adata\n",
    "y_train = adata_yao.obs['subclass_label']  # Labels for adata\n",
    "\n",
    "X_test = adata[:, genes_common].X  # Feature matrix for adata2\n",
    "\n",
    "clf = RandomForestClassifier(random_state=42)\n",
    "clf.fit(X_train, y_train)\n",
    "\n",
    "# Predict labels for adata\n",
    "adata.obs['predicted_label_2'] = clf.predict(X_test)"
   ]
  },
  {
   "cell_type": "code",
   "execution_count": null,
   "id": "2441c7a4-b029-4771-8106-e3c5577fcdab",
   "metadata": {},
   "outputs": [],
   "source": [
    "sc.pl.umap(adata, color=['res1p5','res3','predicted_label'],legend_loc='on data')"
   ]
  },
  {
   "cell_type": "code",
   "execution_count": null,
   "id": "826cdcc2-0f84-4030-ac9f-463cb45075de",
   "metadata": {},
   "outputs": [],
   "source": [
    "adata.write(r'X:\\GV1Backup\\AM\\data\\240719AnalysisDAM_TERM\\f0_adata_concat_harmpaga_predict_muspx.h5ad')"
   ]
  },
  {
   "cell_type": "code",
   "execution_count": null,
   "id": "ed4ea28d-37f8-4f6f-bb04-03e97830d407",
   "metadata": {},
   "outputs": [],
   "source": [
    "unique_batches = adata.obs.batch.cat.categories"
   ]
  },
  {
   "cell_type": "code",
   "execution_count": null,
   "id": "2fe8c767-a2d6-4faf-89a5-e1234f7b381b",
   "metadata": {},
   "outputs": [],
   "source": [
    "new_spatial = np.zeros(np.shape(adata.obsm['X_spatial']))\n",
    "#additions = np.array([[0, 0], [70000, 0], [140000,0], [210000, 0], [280000, 0], [350000, 0],[420000, 0],[490000, 0],[560000,0],[630000,0],[700000,0],[770000,0],[840000,0]])\n",
    "additions = np.array([[0, 0], [70000, 0], [140000,0], [210000, 0], [0, 60000], [70000, 60000],[140000, 60000],[210000, 60000],[0, 120000], [70000, 120000],[140000, 120000],[210000, 120000]])\n",
    "\n",
    "addition_ctr = 0\n",
    "for batch in unique_batches:\n",
    "    indices = np.where(adata.obs.batch.values == batch)[0]\n",
    "    new_spatial[indices] = adata.obsm['X_spatial'][indices] + additions[addition_ctr]\n",
    "    addition_ctr += 1"
   ]
  },
  {
   "cell_type": "code",
   "execution_count": null,
   "id": "95a1f76d-7cb8-45d9-8a48-7cdc861d171b",
   "metadata": {},
   "outputs": [],
   "source": [
    "adata.obsm['X_multi_spatial'] = new_spatial"
   ]
  },
  {
   "cell_type": "code",
   "execution_count": null,
   "id": "cec5b2c6-9497-4917-b4df-246dce8d5452",
   "metadata": {},
   "outputs": [],
   "source": [
    "def plot_gene_expression(gene,adata,\n",
    "                         bad_cells=[],vmax=None,vmax_perc=None,vmin=None,vmin_perc=None,\n",
    "                         name=None,bad_fovs=[],transpose=-1,flipx=-1,flipy=-1,key = 'X_spatial'):\n",
    "    scores = np.squeeze(np.array(adata[:,gene].X))\n",
    "    \n",
    "    x,y = (np.array(adata.obsm[key])*[flipx,flipy])[:,::transpose].T\n",
    "    \n",
    "    #x,y = -np.array([dic_cells_final[cell]['X'][1:] for cell in cells]).T\n",
    "    \n",
    "\n",
    "    #fig = plt.figure(figsize=(10,8), facecolor='black')#,dpi=300)\n",
    "    if vmax is None and vmax_perc is None:\n",
    "        vmax_ = 30\n",
    "        vmin_= 0\n",
    "    if vmax_perc is not None:\n",
    "        vmax_ = np.percentile(scores, vmax_perc)\n",
    "    if vmin_perc is not None:\n",
    "        vmin_ = np.percentile(scores, vmin_perc)\n",
    "    if vmax is not None:\n",
    "        vmax_ = vmax\n",
    "    if vmin is not None:\n",
    "        vmin_ = vmin\n",
    "    #fig = plt.figure(dpi=300)\n",
    "    plt.scatter(x, y, c=scores, s=1, cmap='coolwarm', vmax=vmax_,vmin=vmin_)\n",
    "    cb = plt.colorbar(shrink=0.5)\n",
    "    if name is None:\n",
    "        name = gene\n",
    "    cb.ax.set_title(f'{name}\\ncounts', color='white', fontsize='x-large', fontweight='heavy')\n",
    "    cb.ax.yaxis.set_tick_params(color='black')\n",
    "    cb.outline.set_edgecolor('w')\n",
    "    plt.setp(plt.getp(cb.ax.axes, 'yticklabels'), color='white', fontsize='x-large', fontweight='heavy')\n",
    "    #plt.grid(b=None)\n",
    "    plt.axis('off')\n",
    "    plt.axis('equal')\n",
    "    plt.tight_layout()\n",
    "    #plt.show()\n",
    "    return fig\n",
    "\n",
    "cmap = [\"#e6194B\", \"#3cb44b\", \"#ffe119\", \"#4363d8\", \"#f58231\", \"#911eb4\", \"#42d4f4\", \"#f032e6\", \"#bfef45\",\n",
    "        \"#fabed4\", \"#469990\", \"#dcbeff\", \"#9A6324\", \"#fffac8\", \"#800000\", \"#aaffc3\", \"#808000\", \"#ffd8b1\",\n",
    "        \"#000075\", \"#a9a9a9\"]\n",
    "def plot_cluster_scdata(scdata,cmap,clusters=[1,2],transpose=1,flipx=1,flipy=1,tag = 'cluster', key = 'X_spatial'):\n",
    "    import matplotlib.pyplot as plt\n",
    "    #fig=plt.figure(figsize=(15, 5), facecolor=\"black\")\n",
    "    \n",
    "\n",
    "    from matplotlib import pylab as plt\n",
    "    x,y = (np.array(scdata.obsm[key])*[flipx,flipy])[:,::transpose].T\n",
    "    #np.unique(scdata.obs[\"leiden\"].astype(np.int))[::-1]\n",
    "    plt.scatter(x, y, c='grey', s=2, marker='.')\n",
    "    for cluster in clusters:\n",
    "        cluster_ = str(cluster)\n",
    "        inds = scdata.obs[tag] == cluster_\n",
    "        x_ = x[inds]\n",
    "        y_ = y[inds]\n",
    "        col = cmap[int(cluster) % len(cmap)]\n",
    "        plt.scatter(x_, y_, c=col, s=4, marker='.',label = cluster_)\n",
    "    \n",
    "    plt.grid(False)\n",
    "    plt.axis(\"off\")\n",
    "    plt.axis(\"equal\")\n",
    "    plt.legend()\n",
    "    plt.tight_layout()\n",
    "    return fig"
   ]
  },
  {
   "cell_type": "markdown",
   "id": "b38805f1-35d0-44ce-a8e4-9119f440b01b",
   "metadata": {},
   "source": [
    "# Dealing with Vizgen grids"
   ]
  },
  {
   "cell_type": "code",
   "execution_count": null,
   "id": "d017f95b-b268-4727-b8f8-f388336393a3",
   "metadata": {},
   "outputs": [],
   "source": [
    "sc.tl.pca(adata, svd_solver=\"arpack\",random_state=9,use_highly_variable=True)\n",
    "sc.pl.pca(adata, color=['Gfap','Hexb','Aqp4','Wipf3','Sst','Syp'])\n",
    "sc.pp.neighbors(adata, n_neighbors=10, n_pcs=50)\n",
    "sc.tl.umap(adata,random_state=9,min_dist=0.2,init_pos='X_pca_harmony')\n",
    "sc.pl.umap(adata, color=['Gfap','Hexb','Aqp4','Wipf3','Sst','Syp'])\n",
    "sc.tl.leiden(adata,resolution=3, key_added='nres3')"
   ]
  },
  {
   "cell_type": "code",
   "execution_count": null,
   "id": "a1018bfd-cb53-49a5-b61d-d9d5f9390f1e",
   "metadata": {},
   "outputs": [],
   "source": [
    "sc.tl.paga(adata, groups='nres3')\n",
    "sc.pl.paga(adata, color=['Gfap','Hexb','Aqp4','Wipf3','Sst','Syp'])\n",
    "sc.tl.umap(adata, init_pos='paga', min_dist=0.2)\n",
    "sc.pl.umap(adata, color=['Gfap','Hexb','Aqp4','Wipf3','Sst','Syp'])"
   ]
  },
  {
   "cell_type": "code",
   "execution_count": null,
   "id": "4a8dfe81-c8ef-4fa2-95f7-cc6b4a1fcde8",
   "metadata": {},
   "outputs": [],
   "source": [
    "adata.uns['log1p'][\"base\"] = None\n",
    "sc.tl.rank_genes_groups(adata, 'nres3', method='t-test')\n",
    "result = adata.uns['rank_genes_groups']\n",
    "groups = result['names'].dtype.names\n",
    "df_scdata = pd.DataFrame({group + '_' + key[:1]: result[key][group] for group in groups for key in ['names','logfoldchanges','pvals','pvals_adj']})\n",
    "df_scdata.to_csv('f9_adata_nres3_rgg.csv')"
   ]
  },
  {
   "cell_type": "code",
   "execution_count": null,
   "id": "85fe34c1-2474-4987-bf3b-34e8d811d8e9",
   "metadata": {},
   "outputs": [],
   "source": [
    "del_cluster=['30','60','61']\n",
    "adata_del1=adata[~adata.obs['nres3'].isin(del_cluster)]\n",
    "adata_del1"
   ]
  },
  {
   "cell_type": "code",
   "execution_count": null,
   "id": "308988f0-823e-49a9-b46d-a78ba678a8e6",
   "metadata": {},
   "outputs": [],
   "source": [
    "sc.tl.pca(adata_del1, svd_solver=\"arpack\",random_state=9,use_highly_variable=True)\n",
    "sc.pp.neighbors(adata_del1, n_neighbors=10, n_pcs=50)\n",
    "sc.tl.umap(adata_del1,random_state=9,min_dist=0.2)\n",
    "sc.tl.leiden(adata_del1,resolution=4, key_added='dnres4')\n",
    "sc.pl.umap(adata_del1, color=['Gfap','Hexb','Aqp4','Wipf3','Sst','Syp'])"
   ]
  },
  {
   "cell_type": "code",
   "execution_count": null,
   "id": "f3b371de-2ef3-4762-9bea-2051d41afa68",
   "metadata": {},
   "outputs": [],
   "source": [
    "clusters = adata_del1.obs['dnres4'].unique()\n",
    "output_folder = r'data\\240719AnalysisDAM_TERM\\f9_dnres4_single_cluster_spxMap'\n",
    "for cluster in clusters:\n",
    "    fig = plt.figure(figsize=(12, 8), facecolor=\"black\")\n",
    "    plot_cluster_scdata(adata_del1, cmap, clusters=[cluster], transpose=1, flipx=1, flipy=-1, tag='dnres4', key='X_multi_spatial')\n",
    "    \n",
    "    plt.savefig(f'{output_folder}\\\\f9_cluster_{cluster}_dnres4.jpg', format='jpg', dpi=300, bbox_inches='tight')\n",
    "    \n",
    "    plt.close(fig)"
   ]
  },
  {
   "cell_type": "code",
   "execution_count": null,
   "id": "b2279acc-6475-4db5-8c88-9e53a155dee5",
   "metadata": {},
   "outputs": [],
   "source": [
    "del_cluster=['43','76']\n",
    "adata_del2=adata_del1[~adata_del1.obs['dnres4'].isin(del_cluster)]\n",
    "adata_del2"
   ]
  },
  {
   "cell_type": "code",
   "execution_count": null,
   "id": "802997b1-68e1-4abf-a60c-def8a22b5984",
   "metadata": {},
   "outputs": [],
   "source": [
    "sc.tl.pca(adata_del2, svd_solver=\"arpack\",random_state=9,use_highly_variable=True)\n",
    "sc.pp.neighbors(adata_del2, n_neighbors=10, n_pcs=50)\n",
    "sc.tl.umap(adata_del2,random_state=9,min_dist=0.2)\n",
    "sc.tl.leiden(adata_del2,resolution=5, key_added='ddnres5')\n",
    "sc.pl.umap(adata_del2, color=['Gfap','Hexb','Aqp4','Wipf3','Sst','Syp'])"
   ]
  },
  {
   "cell_type": "code",
   "execution_count": null,
   "id": "dcd567f7-0187-4ed5-8ed3-5758d44142ab",
   "metadata": {},
   "outputs": [],
   "source": [
    "clusters = adata_del2.obs['ddnres5'].unique()\n",
    "output_folder = r'data\\240719AnalysisDAM_TERM\\f9_ddnres5_single_cluster_spxMap'\n",
    "for cluster in clusters:\n",
    "    fig = plt.figure(figsize=(12, 8), facecolor=\"black\")\n",
    "    plot_cluster_scdata(adata_del2, cmap, clusters=[cluster], transpose=1, flipx=1, flipy=-1, tag='ddnres5', key='X_multi_spatial')\n",
    "    \n",
    "    plt.savefig(f'{output_folder}\\\\f9_cluster_{cluster}_ddnres5.jpg', format='jpg', dpi=300, bbox_inches='tight')\n",
    "    \n",
    "    plt.close(fig)"
   ]
  },
  {
   "cell_type": "code",
   "execution_count": null,
   "id": "8dc5c684-60ca-4d10-bf3f-3c6974674643",
   "metadata": {},
   "outputs": [],
   "source": [
    "cmap = [\"#e6194B\", \"#3cb44b\", \"#ffe119\", \"#4363d8\", \"#f58231\", \"#911eb4\", \"#42d4f4\", \"#f032e6\", \"#bfef45\",\n",
    "        \"#fabed4\", \"#469990\", \"#dcbeff\", \"#9A6324\", \"#fffac8\", \"#800000\", \"#aaffc3\", \"#808000\", \"#ffd8b1\",\n",
    "        \"#000075\", \"#a9a9a9\"]\n",
    "def plot_cluster_scdata(scdata,cmap,clusters=[1,2],transpose=1,flipx=1,flipy=1,tag = 'cluster', key = 'X_spatial'):\n",
    "    import matplotlib.pyplot as plt\n",
    "    #fig=plt.figure(figsize=(15, 5), facecolor=\"black\")\n",
    "    \n",
    "\n",
    "    from matplotlib import pylab as plt\n",
    "    x,y = (np.array(scdata.obsm[key])*[flipx,flipy])[:,::transpose].T\n",
    "    #np.unique(scdata.obs[\"leiden\"].astype(np.int))[::-1]\n",
    "    plt.scatter(x, y, c='#E0E0E0', s=4, marker='.')\n",
    "    for cluster in clusters:\n",
    "        cluster_ = str(cluster)\n",
    "        inds = scdata.obs[tag] == cluster_\n",
    "        x_ = x[inds]\n",
    "        y_ = y[inds]\n",
    "        col = cmap[int(cluster) % len(cmap)]\n",
    "        plt.scatter(x_, y_, c=col, s=1, marker='.',label = cluster_)\n",
    "    \n",
    "    plt.grid(False)\n",
    "    plt.axis(\"off\")\n",
    "    plt.axis(\"equal\")\n",
    "    plt.legend()\n",
    "    plt.tight_layout()\n",
    "    return fig"
   ]
  }
 ],
 "metadata": {
  "kernelspec": {
   "display_name": "Python 3 (ipykernel)",
   "language": "python",
   "name": "python3"
  },
  "language_info": {
   "codemirror_mode": {
    "name": "ipython",
    "version": 3
   },
   "file_extension": ".py",
   "mimetype": "text/x-python",
   "name": "python",
   "nbconvert_exporter": "python",
   "pygments_lexer": "ipython3",
   "version": "3.9.19"
  }
 },
 "nbformat": 4,
 "nbformat_minor": 5
}
