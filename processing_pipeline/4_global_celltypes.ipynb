{
 "cells": [
  {
   "cell_type": "code",
   "execution_count": null,
   "id": "53ef9071-791a-4cea-8cc9-8fe767409f91",
   "metadata": {},
   "outputs": [],
   "source": [
    "import pickle\n",
    "import seaborn as sns\n",
    "import imageio as io\n",
    "import pandas as pd\n",
    "import os\n",
    "import matplotlib.pyplot as plt\n",
    "import numpy as np\n",
    "import tifffile\n",
    "from tqdm.notebook import tqdm\n",
    "import pathlib\n",
    "import json\n",
    "import glob\n",
    "import PIL\n",
    "import scanpy as sc"
   ]
  },
  {
   "cell_type": "code",
   "execution_count": null,
   "id": "14ef7d38-64da-4dc3-8a0f-405a5f7d92d8",
   "metadata": {},
   "outputs": [],
   "source": [
    "adata_del2=sc.read(r'data\\240719AnalysisDAM_TERM\\adata_del2.h5ad')"
   ]
  },
  {
   "cell_type": "code",
   "execution_count": null,
   "id": "4d3d298b-9cd2-46b4-819b-3e57c0830c94",
   "metadata": {},
   "outputs": [],
   "source": [
    "cell_dict2={\n",
    "'Glutamatergic':['66','11','30','53','17','27','15','34','31','54','13','28','10','50','12','44','80','45','29','79','68','70'],\n",
    "'OPC': ['40','22'],\n",
    "'Oligo': ['76','58','2','60','6','4','5','36','35','47','49','39','74','69'],\n",
    "'Macro': ['72'],\n",
    "'VLMC':['43','32','61'],\n",
    "'Endo': ['9','0','19','59','18','38','77','64'],\n",
    "'Astro': ['7','26','55','48','16','8','24','20','56'],\n",
    "'Microglia':['67','3','42','83','75'],\n",
    "'SMC_Peri':['51','84','41','82','78'],\n",
    "'GABAergic':['52','65','63','25','1','71','37','85','57','33','21','45','23','46','62','73','14','81']\n",
    "}"
   ]
  },
  {
   "cell_type": "code",
   "execution_count": null,
   "id": "1ba03777-0a9a-4f28-9500-13e3d02a0d4c",
   "metadata": {},
   "outputs": [],
   "source": [
    "cell2023_markers=['Slc17a7','Gad2','Cux2','Rspo1','Scube1','Fezf2','Ndst4','Nxph4','Hs3st4','Tshz2','Chat','Ptpru','Sst','Pvalb','Syt6','Cpne7','Lamp5','Lhx6','Vip','Adarb2','Calb2','Otof','Drd1','Adora2a','Pdgfra','Olig1','Rorb','Aqp4','Foxj1','Cspg4','Vtn','Cldn5','F13a1','Cd3e','Ctss']\n",
    "cell2023_inlib=list(np.intersect1d(cell2023_markers,adata_del2.var.index.tolist()))\n",
    "print(len(cell2023_markers),len(cell2023_inlib),cell2023_inlib)"
   ]
  },
  {
   "cell_type": "code",
   "execution_count": null,
   "id": "b95404c8-730a-4b8d-93b3-9452ba66b53c",
   "metadata": {},
   "outputs": [],
   "source": [
    "cell2023_inlib_ordered = [gene for gene in cell2023_markers if gene in cell2023_inlib]\n",
    "\n",
    "print(f\"Total genes in cell2023_markers: {len(cell2023_markers)}\")\n",
    "print(f\"Genes found in the library: {len(cell2023_inlib_ordered)}\")\n",
    "print(\"Genes in order:\", cell2023_inlib_ordered)"
   ]
  },
  {
   "cell_type": "code",
   "execution_count": null,
   "id": "6afe5cb6-999c-40ce-9409-dd098bb8460c",
   "metadata": {},
   "outputs": [],
   "source": [
    "sc.pl.dotplot(adata_del2, cell2023_inlib_ordered, groupby='class',dendrogram=True)"
   ]
  },
  {
   "cell_type": "code",
   "execution_count": null,
   "id": "c3dba8b8-6349-4c6e-ab4e-3546da42b87e",
   "metadata": {},
   "outputs": [],
   "source": [
    "sc.set_figure_params(figsize=(40,8))\n",
    "sc.pl.heatmap(\n",
    "    adata_del2, \n",
    "    cell2023_inlib_ordered, \n",
    "    groupby='ddnres5', \n",
    "    swap_axes=True,  # Swap x and y axes\n",
    "    dendrogram=True, \n",
    "    show=False\n",
    ")\n"
   ]
  },
  {
   "cell_type": "code",
   "execution_count": null,
   "id": "c6db4e14-e944-474c-a716-598ffdaf0e9b",
   "metadata": {},
   "outputs": [],
   "source": [
    "ExN=adata_del2[adata_del2.obs['class']=='Glutamatergic']\n",
    "ExN"
   ]
  },
  {
   "cell_type": "code",
   "execution_count": null,
   "id": "ce6a5ced-2090-4b90-9291-4abcd168c82d",
   "metadata": {},
   "outputs": [],
   "source": [
    "#sc.tl.dendrogram(ExN,  groupby='ddnres5')\n",
    "sc.pl.dotplot(ExN, cell2023_inlib_ordered, groupby='ddnres5',dendrogram=True)"
   ]
  },
  {
   "cell_type": "markdown",
   "id": "94a89561-22cd-4d21-a7ec-719f6d49da68",
   "metadata": {},
   "source": [
    "# Manually label"
   ]
  },
  {
   "cell_type": "code",
   "execution_count": null,
   "id": "df94a459-0da0-4412-acf4-83253493cc03",
   "metadata": {},
   "outputs": [],
   "source": [
    "#unsure:'55_cd3e,cd3g''\n",
    "cell_dict2={\n",
    "'ExN':['66','11','30','53','17','27','15','34','31','54','13','28','10','50','12','44','80','45','29','79','68','70'],\n",
    "'OPC': ['40','22'],\n",
    "'Oligo': ['76','58','2','60','6','4','5','36','35','47','49','39','74','69'],\n",
    "'Macro': ['72'],\n",
    "'VLMC':['43','32','61'],\n",
    "'Endo': ['9','0','19','59','18','38','77','64'],\n",
    "'Astro': ['7','26','55','48','16','8','24','20','56'],\n",
    "'Microglia':['67','3','42','83','75'],\n",
    "'SMC_Peri':['51','84','41','82','78'],\n",
    "'InN':['52','65','63','25','1','71','37','85','57','33','21','45','23','46','62','73','14','81']\n",
    "}\n",
    "\n",
    "adata_del2.obs['class'] = np.nan\n",
    "\n",
    "for i in cell_dict2.keys():\n",
    "    ind = pd.Series(adata_del2.obs['ddnres5']).isin(cell_dict2[i])\n",
    "    adata_del2.obs.loc[ind,'class'] = i\n",
    "adata_del2.obs['class'].fillna('Notclustered', inplace=True)\n",
    "adata_del2.obs['class']=adata_del2.obs['class'].astype('category')"
   ]
  },
  {
   "cell_type": "code",
   "execution_count": null,
   "id": "1609b785-c672-4eb1-8e6d-60151dd68483",
   "metadata": {},
   "outputs": [],
   "source": [
    "\n",
    "custom_colors = {\n",
    "    'OPC': '#f58231',  # Orange\n",
    "    'Oligo': '#3cb44b',  # Green\n",
    "    'Macro': '#ff1493',  # Yellow#ffe119\n",
    "    'Astro': '#4363d8',  # Blue\n",
    "    'Microglia': '#ffe119',  # Pink#ff1493\n",
    "    'ExN': '#e6194B',  # Bright Red\n",
    "    'InN': '#bfef45',  # Lime\n",
    "    'VLMC': '#42d4f4',  # Sky Blue\n",
    "    'Endo': '#fabed4',  # #ffd8b1 – Peach,#fabed4 – Light Pink\n",
    "    'SMC_Peri': '#3cb44b'  # Olive\n",
    "}\n",
    "\n",
    "unique_classes = adata_del2.obs['class'].cat.categories\n",
    "adata_del2.uns['class_colors'] = [custom_colors.get(cls, '#000000') for cls in unique_classes]  # Default black for missing classes\n",
    "\n",
    "sc.set_figure_params(figsize=(5, 5))\n",
    "sc.pl.umap(\n",
    "    adata_del2, \n",
    "    color='class',\n",
    "    add_outline=True,\n",
    "    legend_loc='on data',  \n",
    "    legend_fontsize=10,\n",
    "    legend_fontoutline=2,\n",
    "    frameon=False,\n",
    "    size=1,\n",
    "    show=False,\n",
    "    use_raw=False\n",
    ")\n",
    "\n",
    "output_folder=r'data\\240719AnalysisDAM_TERM\\fig_0904'\n",
    "output_path = f'{output_folder}/global_umap_class_legendondata.tif'\n",
    "plt.savefig(output_path, bbox_inches='tight', dpi=300)\n",
    "\n",
    "# Optionally show the plot\n",
    "plt.show()\n"
   ]
  },
  {
   "cell_type": "code",
   "execution_count": null,
   "id": "427ceb17-a166-48b2-bb77-7b573318f17c",
   "metadata": {},
   "outputs": [],
   "source": [
    "adata_app_wh=adata_whole[adata_whole.obs['batch']=='APP_1']\n",
    "adata_te4_wh=adata_whole[adata_whole.obs['batch']=='TE4_1']\n",
    "adata_wt_wh=adata_whole[adata_whole.obs['batch']=='WT_1']"
   ]
  },
  {
   "cell_type": "code",
   "execution_count": null,
   "id": "848f1200-dc32-489d-bb91-5bd6a20e12bb",
   "metadata": {},
   "outputs": [],
   "source": [
    "fig=plt.figure(figsize=(12, 8), facecolor=\"white\")\n",
    "#bad 15\n",
    "#cortical layers[8,10,12,14] 1,3,6,0,9\n",
    "fig = plot_cluster_scdata(adata_del2,cmap,clusters=[5,10,11,12,13,15,17,27,28,30,31,32,34,37,43,53,54,61,78],transpose=1,flipx=1,flipy=-1,tag='ddnres5', key = 'X_multi_spatial')"
   ]
  },
  {
   "cell_type": "code",
   "execution_count": null,
   "id": "0fc0889f-18b9-43ee-af98-32ab79fa971d",
   "metadata": {},
   "outputs": [],
   "source": [
    "# Use celltypist"
   ]
  },
  {
   "cell_type": "code",
   "execution_count": null,
   "id": "0a2a7e59-ecb6-4220-b076-3eb2ecf4ca8e",
   "metadata": {},
   "outputs": [],
   "source": [
    "import celltypist\n",
    "from celltypist import models\n",
    "models.download_models(force_update = True)"
   ]
  },
  {
   "cell_type": "code",
   "execution_count": null,
   "id": "c292deef-d7c1-4540-a31c-7ae3728d2842",
   "metadata": {},
   "outputs": [],
   "source": [
    "models.models_path"
   ]
  },
  {
   "cell_type": "code",
   "execution_count": null,
   "id": "10209c17-c996-4437-80ee-a2847b03b919",
   "metadata": {},
   "outputs": [],
   "source": [
    "models.models_description()"
   ]
  },
  {
   "cell_type": "code",
   "execution_count": null,
   "id": "918f5689-d2da-4d8c-9295-a1056d504ce9",
   "metadata": {},
   "outputs": [],
   "source": [
    "model = models.Model.load(model = 'Mouse_Whole_Brain.pkl')"
   ]
  },
  {
   "cell_type": "code",
   "execution_count": null,
   "id": "682ba0d1-39ea-41d2-9d77-b7c05c165cca",
   "metadata": {},
   "outputs": [],
   "source": [
    "model.cell_types"
   ]
  },
  {
   "cell_type": "code",
   "execution_count": null,
   "id": "1a74afdf-944d-47ac-bbac-61a78b715257",
   "metadata": {},
   "outputs": [],
   "source": [
    "predictions = celltypist.annotate(adata_del2, model = 'Mouse_Whole_Brain.pkl', majority_voting = True)\n",
    "predictions.predicted_labels"
   ]
  },
  {
   "cell_type": "code",
   "execution_count": null,
   "id": "6edbcdfe-8a9b-4385-bfdd-839a2a6bef2e",
   "metadata": {},
   "outputs": [],
   "source": [
    "adata_del2 = predictions.to_adata()"
   ]
  },
  {
   "cell_type": "code",
   "execution_count": null,
   "id": "7b636a62-de4d-4297-8677-0548787ec060",
   "metadata": {},
   "outputs": [],
   "source": [
    "sc.set_figure_params(figsize=(15,15))\n",
    "sc.pl.umap(adata_del2, color = ['class', 'predicted_label_2', 'majority_voting'], legend_loc = 'on data')"
   ]
  },
  {
   "cell_type": "code",
   "execution_count": null,
   "id": "ff9fbc05-7652-4769-9759-4221e7705db2",
   "metadata": {},
   "outputs": [],
   "source": [
    "obs_df = adata_del2.obs[['class', 'predicted_label_2', 'majority_voting_wb','over_clustering']]"
   ]
  },
  {
   "cell_type": "code",
   "execution_count": null,
   "id": "7cb50137-4838-4316-871d-38d923592219",
   "metadata": {},
   "outputs": [],
   "source": [
    "adata_del2.obs['majority_voting_wb']=adata_del2.obs.pop('majority_voting')"
   ]
  },
  {
   "cell_type": "code",
   "execution_count": null,
   "id": "f89abc58-4e1f-49d9-adb2-47570dae85e8",
   "metadata": {},
   "outputs": [],
   "source": [
    "# Yao2023 mapping"
   ]
  },
  {
   "cell_type": "code",
   "execution_count": null,
   "id": "90ccebaa-c60f-4520-b9e1-790297947a1e",
   "metadata": {},
   "outputs": [],
   "source": [
    "supertype=pd.read_excel('Yao2023_41586_2023_6812_MOESM8_ESM.xlsx')"
   ]
  },
  {
   "cell_type": "code",
   "execution_count": null,
   "id": "ff566ab0-99b2-48ad-b770-7a64e8f6caa8",
   "metadata": {},
   "outputs": [],
   "source": [
    "supertype"
   ]
  },
  {
   "cell_type": "code",
   "execution_count": null,
   "id": "a7c77f42-40fc-4a4e-90ae-fa999000fc8a",
   "metadata": {},
   "outputs": [],
   "source": [
    "supertype.set_index('subclass_id_label', inplace=True)\n",
    "relevant_columns = ['class_id', 'class_label', 'class_id_label', 'neighborhood', 'anatomical_annotation']\n",
    "supertype_relevant = supertype[relevant_columns]"
   ]
  },
  {
   "cell_type": "code",
   "execution_count": null,
   "id": "70342507-b529-4be7-bbdc-a161039e7745",
   "metadata": {},
   "outputs": [],
   "source": [
    "duplicates = supertype_relevant.index.duplicated(keep=False)\n",
    "\n",
    "if duplicates.any():\n",
    "    print(\"Duplicated subclass_id_labels found:\")\n",
    "    print(supertype_relevant[duplicates])\n",
    "else:\n",
    "    print(\"No duplicates found.\")"
   ]
  },
  {
   "cell_type": "code",
   "execution_count": null,
   "id": "deafc8f7-7fc9-4660-ae13-29c08d4841c4",
   "metadata": {},
   "outputs": [],
   "source": [
    "supertype_relevant_unique = supertype_relevant[~supertype_relevant.index.duplicated(keep='first')]\n",
    "supertype_relevant_unique"
   ]
  },
  {
   "cell_type": "code",
   "execution_count": null,
   "id": "9c6b9f46-902f-4f80-87e6-a46405fc5b50",
   "metadata": {},
   "outputs": [],
   "source": [
    "adata=adata_del2.copy()"
   ]
  },
  {
   "cell_type": "code",
   "execution_count": null,
   "id": "c3926a61-27da-4029-8057-1808da4e8d83",
   "metadata": {},
   "outputs": [],
   "source": [
    "mapping_class_id = supertype_relevant_unique['class_id'].to_dict()\n",
    "mapping_class_label = supertype_relevant_unique['class_label'].to_dict()\n",
    "mapping_class_id_label = supertype_relevant_unique['class_id_label'].to_dict()\n",
    "mapping_neighborhood = supertype_relevant_unique['neighborhood'].to_dict()\n",
    "mapping_anatomical_annotation = supertype_relevant_unique['anatomical_annotation'].to_dict()\n",
    "\n",
    "adata.obs['class_id'] = adata.obs['majority_voting_wb'].map(mapping_class_id)\n",
    "adata.obs['class_label'] = adata.obs['majority_voting_wb'].map(mapping_class_label)\n",
    "adata.obs['class_id_label'] = adata.obs['majority_voting_wb'].map(mapping_class_id_label)\n",
    "adata.obs['neighborhood'] = adata.obs['majority_voting_wb'].map(mapping_neighborhood)\n",
    "adata.obs['anatomical_annotation'] = adata.obs['majority_voting_wb'].map(mapping_anatomical_annotation)\n"
   ]
  },
  {
   "cell_type": "code",
   "execution_count": null,
   "id": "49d664dd-aeaa-4159-b00c-fb6763023cbb",
   "metadata": {},
   "outputs": [],
   "source": [
    "print(adata.obs[['majority_voting_wb', 'class_id', 'class_label', 'class_id_label', 'neighborhood', 'anatomical_annotation']].head())\n"
   ]
  },
  {
   "cell_type": "code",
   "execution_count": null,
   "id": "c1487697-f3aa-483f-99b7-3df35bb8292a",
   "metadata": {},
   "outputs": [],
   "source": [
    "supertype_relevant_unique.loc['221 LDT-PCG Vsx2 Lhx4 Glut']"
   ]
  },
  {
   "cell_type": "code",
   "execution_count": null,
   "id": "35437df1-a562-4821-aa1a-ba28da2f42d0",
   "metadata": {},
   "outputs": [],
   "source": [
    "adata.obs['class_id'] = adata.obs['class_id'].astype('category')"
   ]
  },
  {
   "cell_type": "code",
   "execution_count": null,
   "id": "93850bf4-55b0-473b-9a43-a30b2cf2af75",
   "metadata": {},
   "outputs": [],
   "source": [
    "sc.set_figure_params(figsize=(6,6))\n",
    "sc.pl.umap(adata, color = ['class', 'class_id', 'majority_voting_wb','class_label','anatomical_annotation','ddnres5'], legend_loc = 'on data')"
   ]
  },
  {
   "cell_type": "code",
   "execution_count": null,
   "id": "4d83eaf1-284f-48ae-b579-dd4b3e74bb4f",
   "metadata": {},
   "outputs": [],
   "source": [
    "ct_table = pd.crosstab(adata.obs['ddnres5'], adata.obs['class_label'])\n",
    "ct_table_normalized = ct_table.div(ct_table.sum(axis=1), axis=0)\n",
    "plt.figure(figsize=(16, 26))  # Adjust the figure size as needed\n",
    "sns.heatmap(ct_table_normalized, annot=True, cmap=\"coolwarm\", fmt=\".2f\", linewidths=.5)\n",
    "plt.title('Heatmap of Cell Types per Leiden Cluster')\n",
    "plt.xlabel('Leiden Clusters')\n",
    "plt.ylabel('Predicted Cell Types')\n",
    "#ct_table_normalized.to_csv('f13_crosstab_ABAZeng23_class_label_ddnres5_norm.csv', index=True)\n",
    "#ct_table.to_csv('f13_crosstab_ABAZeng23_class_label_ddnres5.csv', index=True)\n",
    "plt.show()"
   ]
  },
  {
   "cell_type": "code",
   "execution_count": null,
   "id": "6775020e-6065-4ba7-9788-0ef73c245afb",
   "metadata": {},
   "outputs": [],
   "source": [
    "ct_table = pd.crosstab(adata.obs['ddnres5'], adata.obs['majority_voting_wb'])\n",
    "ct_table_normalized = ct_table.div(ct_table.sum(axis=1), axis=0)\n",
    "plt.figure(figsize=(26, 8))  # Adjust the figure size as needed\n",
    "sns.heatmap(ct_table, annot=True, cmap=\"coolwarm\", fmt=\"g\", linewidths=.5)\n",
    "plt.title('Heatmap of Cell Types per Leiden Cluster')\n",
    "plt.xlabel('Leiden Clusters')\n",
    "plt.ylabel('Predicted Cell Types')\n",
    "#ct_table_normalized.to_csv('f13_crosstab_ABAZeng23_ddnres5_norm.csv', index=True)\n",
    "#ct_table.to_csv('f13_crosstab_ABAZeng23_ddnres5.csv', index=True)\n",
    "plt.show()"
   ]
  },
  {
   "cell_type": "code",
   "execution_count": null,
   "id": "106d0f3b-44ea-4191-8d82-f8424b3a1b5e",
   "metadata": {},
   "outputs": [],
   "source": [
    "data = []\n",
    "\n",
    "for cell_type in ct_table.index:\n",
    "    counts = ct_table.loc[cell_type]\n",
    "    non_zero_counts = counts[counts > 0]\n",
    "    top_clusters = non_zero_counts.nlargest(3).index.tolist()\n",
    "    data.append({'ddnres5': cell_type, 'Top_celltype_voting': top_clusters})\n",
    "\n",
    "df_top_clusters = pd.DataFrame(data)\n",
    "df_top_clusters\n",
    "df_top_clusters.to_csv('f13_crosstab_ABAZeng23_ddnres5_class_lable_top3celltype.csv', index=True)"
   ]
  },
  {
   "cell_type": "code",
   "execution_count": null,
   "id": "cdeb44bb-24e6-4331-8f44-280237f26d1f",
   "metadata": {},
   "outputs": [],
   "source": [
    "df_top_clusters"
   ]
  },
  {
   "cell_type": "code",
   "execution_count": null,
   "id": "36e42070-24d6-4129-941f-2a8658d1055d",
   "metadata": {},
   "outputs": [],
   "source": [
    "from scipy.cluster.hierarchy import linkage, leaves_list\n",
    "\n",
    "row_linkage = linkage(ct_table, method='single')\n",
    "col_linkage = linkage(ct_table.T, method='single')\n",
    "\n",
    "ordered_rows = leaves_list(row_linkage)\n",
    "ordered_cols = leaves_list(col_linkage)\n",
    "\n",
    "ct_table_reordered = ct_table.iloc[ordered_rows, ordered_cols]\n",
    "\n",
    "ct_table_normalized_reordered = ct_table_reordered.div(ct_table_reordered.sum(axis=1), axis=0)\n",
    "\n",
    "plt.figure(figsize=(20, 20)) \n",
    "sns.heatmap(ct_table_normalized_reordered, annot=False, cmap=\"coolwarm\", fmt=\"g\", linewidths=.5)\n",
    "\n",
    "plt.title('Heatmap of Cell Types per Leiden Cluster (Reordered)')\n",
    "plt.xlabel('Leiden Clusters')\n",
    "plt.ylabel('Predicted Cell Types')\n",
    "\n",
    "plt.show()\n"
   ]
  },
  {
   "cell_type": "code",
   "execution_count": null,
   "id": "fc247ee4-5779-42e1-ae8c-f399ee8e03ec",
   "metadata": {},
   "outputs": [],
   "source": [
    "ct_table = pd.crosstab(adata.obs['class_label'], adata.obs['majority_voting_wb'])\n",
    "ct_table_normalized = ct_table.div(ct_table.sum(axis=1), axis=0)\n",
    "plt.figure(figsize=(26, 8))  # Adjust the figure size as needed\n",
    "sns.heatmap(ct_table, annot=True, cmap=\"coolwarm\", fmt=\"g\", linewidths=.5)\n",
    "plt.title('Heatmap of Cell Types per Leiden Cluster')\n",
    "plt.xlabel('Leiden Clusters')\n",
    "plt.ylabel('Predicted Cell Types')\n",
    "#ct_table_normalized.to_csv('f2_crosstab_cell_types_res3.csv', index=True)\n",
    "#ct_table.to_csv('f13_crosstab_ddnres5_majority_voting_wb_cts.csv', index=True)\n",
    "plt.show()"
   ]
  },
  {
   "cell_type": "code",
   "execution_count": null,
   "id": "5554991c-9a2e-42cc-82b5-8b4695a16e49",
   "metadata": {},
   "outputs": [],
   "source": [
    "import seaborn as sns\n",
    "import matplotlib.pyplot as plt\n",
    "from scipy.cluster.hierarchy import linkage, leaves_list\n",
    "from scipy.spatial.distance import pdist, squareform\n",
    "\n",
    "row_distances = pdist(ct_table, metric='euclidean')\n",
    "col_distances = pdist(ct_table.T, metric='euclidean')\n",
    "\n",
    "row_linkage = linkage(row_distances, method='average')\n",
    "col_linkage = linkage(col_distances, method='average')\n",
    "\n",
    "ordered_rows = leaves_list(row_linkage)\n",
    "ordered_cols = leaves_list(col_linkage)\n",
    "\n",
    "ct_table_reordered = ct_table.iloc[ordered_rows, ordered_cols]\n",
    "ct_table_normalized_reordered = ct_table_reordered.div(ct_table_reordered.sum(axis=1), axis=0)\n",
    "\n",
    "plt.figure(figsize=(20, 32)) \n",
    "sns.heatmap(ct_table_normalized_reordered, annot=False, cmap=\"coolwarm\", fmt=\"g\",linewidths=1,linecolor='black')\n",
    "\n",
    "plt.title('Heatmap of Cell Types per Leiden Cluster (Reordered by Association)')\n",
    "plt.xlabel('Leiden Clusters')\n",
    "plt.ylabel('Predicted Cell Types')\n",
    "\n",
    "plt.show()\n"
   ]
  },
  {
   "cell_type": "code",
   "execution_count": null,
   "id": "79cec655-7085-41d9-93fa-2ff8ebb4794a",
   "metadata": {},
   "outputs": [],
   "source": [
    "ct_table = pd.crosstab(adata.obs['ddnres5'], adata.obs['class_name'])\n",
    "ct_table_normalized = ct_table.div(ct_table.sum(axis=1), axis=0)\n",
    "\n",
    "data = []\n",
    "for cell_type in ct_table.index:\n",
    "    counts = ct_table.loc[cell_type]\n",
    "    non_zero_counts = counts[counts > 0]\n",
    "    top_clusters = non_zero_counts.nlargest(10).index.tolist()\n",
    "    data.append({'CellType': cell_type, 'TopClusters': ', '.join(map(str, top_clusters))})\n",
    "df_top_clusters = pd.DataFrame(data)\n"
   ]
  },
  {
   "cell_type": "code",
   "execution_count": null,
   "id": "69072c32-b44a-49db-80ed-da8c2439f568",
   "metadata": {},
   "outputs": [],
   "source": [
    "ct_table.loc[cell_type]"
   ]
  },
  {
   "cell_type": "code",
   "execution_count": null,
   "id": "2613acf5-1def-4467-9648-1a244413b34f",
   "metadata": {},
   "outputs": [],
   "source": [
    "df_top_cell_types"
   ]
  },
  {
   "cell_type": "code",
   "execution_count": null,
   "id": "273122f9-62ae-4f06-85b6-872f402fcb4b",
   "metadata": {},
   "outputs": [],
   "source": [
    "df = adata.obs[['ddnres5', 'subclass_name']]\n",
    "\n",
    "cluster_celltypes = df.groupby('ddnres5')['class_name'].apply(lambda x: x.unique().tolist())\n",
    "cluster_celltypes_df = cluster_celltypes.reset_index()\n",
    "cluster_celltypes_df.to_csv('f13_ddnres5_class_name.csv', index=True)\n",
    "print(cluster_celltypes_df)"
   ]
  },
  {
   "cell_type": "code",
   "execution_count": null,
   "id": "a3b082b6-aed2-43e3-a7b4-60aae59c4693",
   "metadata": {},
   "outputs": [],
   "source": [
    "adata_inh=adata[adata.obs['class']=='GABAergic']"
   ]
  },
  {
   "cell_type": "code",
   "execution_count": null,
   "id": "96da349c-c9b0-4af3-a930-28f9ce64b9af",
   "metadata": {},
   "outputs": [],
   "source": [
    "np.unique(adata_inh.obs['ddnres5'].tolist())"
   ]
  },
  {
   "cell_type": "code",
   "execution_count": null,
   "id": "61514969-2cf1-4136-a40f-9fd7efdd6256",
   "metadata": {},
   "outputs": [],
   "source": [
    "adata.obs['class'].unique()"
   ]
  },
  {
   "cell_type": "code",
   "execution_count": null,
   "id": "f7d24fa2-fb67-4076-afa1-9d636c077c8c",
   "metadata": {},
   "outputs": [],
   "source": [
    "fig=plt.figure(figsize=(12, 8), facecolor=\"white\")\n",
    "\n",
    "fig = plot_cluster_scdata(adata_del2,cmap,clusters=[41],transpose=1,flipx=1,flipy=-1,tag='ddnres5', key = 'X_multi_spatial')"
   ]
  },
  {
   "cell_type": "code",
   "execution_count": null,
   "id": "eb7b1295-46a7-4f79-812f-6a067aaa464b",
   "metadata": {},
   "outputs": [],
   "source": [
    "df_scdata=pd.read_csv('f9_adata_del2_ddnres5_rgg.csv')\n"
   ]
  },
  {
   "cell_type": "code",
   "execution_count": null,
   "id": "d71a16c4-1a3b-4a94-b835-199223bc9f20",
   "metadata": {},
   "outputs": [],
   "source": [
    "df_scdata['41_n'].head(20)"
   ]
  },
  {
   "cell_type": "code",
   "execution_count": null,
   "id": "92da873a-ecd5-4e1e-a119-85bbe31f339d",
   "metadata": {},
   "outputs": [],
   "source": [
    "import matplotlib.cm as cm\n",
    "def plot_gene_scdata(scdata2, gene='SOX9', nmax=20, sz_min=5, sz_max=30, transpose=1, flipx=1, flipy=1, tag='X_spatial', recompute_raw=False, scale_bar_length=50):\n",
    "    Xcells = np.array(scdata2.obsm[tag])[:, ::transpose] * [flipx, flipy]\n",
    "    gene_idx = list(scdata2.var.index).index(gene)\n",
    "    \n",
    "    if 'X_raw' not in scdata2.obsm or recompute_raw:\n",
    "        Xnorm = (np.exp(scdata2.X) - 1)\n",
    "        ncts = np.sum(Xnorm, axis=1)[:, np.newaxis]  # Changed from axis=1[0] to correct sum over axis\n",
    "        scdata2.obsm['X_raw'] = np.round(Xnorm / ncts * np.array(scdata2.obs['total_counts'])[:, np.newaxis])\n",
    "\n",
    "    cts = np.array(scdata2.obsm['X_raw'][:, gene_idx]).copy()\n",
    "    cts[np.isnan(cts)] = 0\n",
    "    ncts = np.clip(cts / nmax, 0, 1)\n",
    "    size = sz_min + ncts * (sz_max - sz_min)\n",
    "    cols = cm.coolwarm(ncts)\n",
    "    good_cells = np.argsort(cts)\n",
    "    XC = -Xcells[good_cells, ::-1]\n",
    "    fig, ax = plt.subplots(facecolor='white')\n",
    "    plt.title(gene + ' - N max ' + str(nmax))\n",
    "    fig.set_facecolor('white')\n",
    "    scatter = ax.scatter(XC[:, 0], XC[:, 1], c=cols[good_cells], s=size[good_cells])\n",
    "\n",
    "    plt.grid(False)\n",
    "    plt.axis('equal')\n",
    "    plt.xticks([])\n",
    "    plt.yticks([])\n",
    "    \n",
    "    return fig\n",
    "\n",
    "output_folder = r'data\\240719AnalysisDAM_TERM\\fig_0904'\n",
    "# fig = plt.figure(figsize=(6, 4), facecolor=\"white\")"
   ]
  },
  {
   "cell_type": "code",
   "execution_count": null,
   "id": "a19549a7-9d12-42f6-a817-b672e5efd6c1",
   "metadata": {},
   "outputs": [],
   "source": [
    "plt.style.use('default')\n",
    "fig = plt.figure(figsize=(24, 20), facecolor=\"white\")\n",
    "fig = plot_gene_scdata(adata, gene='Hs3st4', nmax=10, sz_min=5, sz_max=3, transpose=-1, flipx=-1, flipy=1, tag='X_multi_spatial', recompute_raw=True)\n",
    "plt.show()"
   ]
  },
  {
   "cell_type": "code",
   "execution_count": null,
   "id": "01d3e8c6-9809-441a-a772-09a0ec255001",
   "metadata": {},
   "outputs": [],
   "source": [
    "# Allen Brain Map_my_cell"
   ]
  },
  {
   "cell_type": "code",
   "execution_count": null,
   "id": "3d8b1a2d-7cf4-4cd7-81d5-1a1074b8db5c",
   "metadata": {},
   "outputs": [],
   "source": [
    "mapmycell=pd.read_csv(r'data\\240719AnalysisDAM_TERM\\adata_mock_10xWholeMouseBrain.csv')"
   ]
  },
  {
   "cell_type": "code",
   "execution_count": null,
   "id": "9bd0d4e0-8a69-43bb-a61a-619ec81b6b69",
   "metadata": {},
   "outputs": [],
   "source": [
    "mapmycell"
   ]
  },
  {
   "cell_type": "code",
   "execution_count": null,
   "id": "e13fa993-b16f-40f5-95bc-bdf45eb76a31",
   "metadata": {},
   "outputs": [],
   "source": [
    "mapmycell.set_index('cell_id', inplace=True)\n",
    "mapmycell"
   ]
  },
  {
   "cell_type": "code",
   "execution_count": null,
   "id": "1caa8516-6732-43fd-b835-79a70693990b",
   "metadata": {},
   "outputs": [],
   "source": [
    "mapmycell.drop(columns=['class_label','subclass_label','supertype_label'], inplace=True)"
   ]
  },
  {
   "cell_type": "code",
   "execution_count": null,
   "id": "67830bf0-cc49-4bb4-9220-21aea1becc1b",
   "metadata": {},
   "outputs": [],
   "source": [
    "plt.hist(mapmycell['class_correlation_coefficient'])"
   ]
  },
  {
   "cell_type": "code",
   "execution_count": null,
   "id": "0f09222c-aeba-46e2-8658-130d23feb1f3",
   "metadata": {},
   "outputs": [],
   "source": [
    "plt.hist(mapmycell['subclass_correlation_coefficient'])"
   ]
  },
  {
   "cell_type": "code",
   "execution_count": null,
   "id": "4c4138b5-67f2-43bc-9cc9-6395b18ba573",
   "metadata": {},
   "outputs": [],
   "source": [
    "adata_co=adata.copy()"
   ]
  },
  {
   "cell_type": "code",
   "execution_count": null,
   "id": "e7d00eb7-a9dd-4ff4-b581-a81a6e2b8440",
   "metadata": {},
   "outputs": [],
   "source": [
    "\n",
    "if (mapmycell.index == adata_co.obs.index).all():\n",
    "    print(\"Indices match. Proceeding with assignment.\")\n",
    "else:\n",
    "    print(\"Warning: Indices do not match. Please check the indices before proceeding.\")\n"
   ]
  },
  {
   "cell_type": "code",
   "execution_count": null,
   "id": "b612a9e7-5926-4f58-b4bb-395fa3cbf9e0",
   "metadata": {},
   "outputs": [],
   "source": [
    "# Assign mapmycell to adata_co.obs\n",
    "# Merge mapmycell into adata_co.obs\n",
    "adata_co.obs = adata_co.obs.join(mapmycell, how='left')\n",
    "\n"
   ]
  },
  {
   "cell_type": "code",
   "execution_count": null,
   "id": "aa076563-1f54-4842-a397-7618d9c565e8",
   "metadata": {},
   "outputs": [],
   "source": [
    "adata_co.obs"
   ]
  },
  {
   "cell_type": "code",
   "execution_count": null,
   "id": "8f24dcff-a80b-4908-9f7e-95dcf16ca755",
   "metadata": {},
   "outputs": [],
   "source": [
    "adata_co.obs['class_name'] = adata_co.obs['class_name'].astype('category')\n"
   ]
  },
  {
   "cell_type": "code",
   "execution_count": null,
   "id": "4ecb825e-2321-4853-b0da-20257d3214c3",
   "metadata": {},
   "outputs": [],
   "source": [
    "class_means = adata.to_df().groupby(adata.obs['class1']).mean()\n",
    "class_name_means = adata.to_df().groupby(adata.obs['class_name']).mean()\n",
    "combined_means = pd.concat([class_means, class_name_means], keys=['class1', 'class_name'])\n",
    "correlation_matrix = combined_means.T.corr()\n",
    "\n",
    "plt.figure(figsize=(10, 8))\n",
    "sns.heatmap(correlation_matrix, cmap='coolwarm', annot=False)\n",
    "plt.title(\"Pairwise Pearson Correlation Between Clusters\")\n",
    "plt.show()"
   ]
  },
  {
   "cell_type": "code",
   "execution_count": null,
   "id": "986d9ff1-ed6d-44e4-bf7e-02db60447571",
   "metadata": {},
   "outputs": [],
   "source": [
    "class_means = adata_co.to_df().groupby(adata_co.obs['class_name']).mean()\n",
    "class_name_means = adata_co.to_df().groupby(adata_co.obs['ddnres5']).mean()\n",
    "\n",
    "common_genes = class_means.columns.intersection(class_name_means.columns)\n",
    "class_means = class_means[common_genes]\n",
    "class_name_means = class_name_means[common_genes]\n",
    "\n",
    "correlation_matrix = pd.DataFrame(index=class_name_means.index, columns=class_means.index)\n",
    "\n",
    "for class_name_cluster in class_name_means.index:\n",
    "    for class_cluster in class_means.index:\n",
    "        profile_class_name = class_name_means.loc[class_name_cluster]\n",
    "        profile_class = class_means.loc[class_cluster]\n",
    "\n",
    "        correlation = profile_class_name.corr(profile_class)\n",
    "        correlation_matrix.loc[class_name_cluster, class_cluster] = correlation\n",
    "\n",
    "correlation_matrix = correlation_matrix.astype(float).fillna(0)\n",
    "\n",
    "plt.figure(figsize=(20, 40))\n",
    "sns.heatmap(correlation_matrix, cmap='coolwarm', annot=True, fmt=\".2f\")\n",
    "plt.xlabel('class')\n",
    "plt.ylabel('class_name')\n",
    "plt.title(\"Pairwise Pearson Correlation Between 'class' and 'class_name' Clusters\")\n",
    "plt.show()\n"
   ]
  },
  {
   "cell_type": "code",
   "execution_count": null,
   "id": "ac914639-9e17-439f-9fab-ef02eb52d489",
   "metadata": {},
   "outputs": [],
   "source": [
    "correlation_matrix"
   ]
  },
  {
   "cell_type": "code",
   "execution_count": null,
   "id": "b9eb9b70-7074-4861-8236-f357754b2077",
   "metadata": {},
   "outputs": [],
   "source": [
    "sc.set_figure_params(figsize=(9,9))\n",
    "sc.pl.umap(adata_co, color = ['class', 'class_name', 'ddnres5'], legend_loc = 'on data')"
   ]
  },
  {
   "cell_type": "code",
   "execution_count": null,
   "id": "d46bd27d-f1d0-4201-8848-cd69558eec8b",
   "metadata": {},
   "outputs": [],
   "source": [
    "fig=plt.figure(figsize=(12, 8), facecolor=\"white\")\n",
    "#bad 15\n",
    "#CORTEX:11,13,15,17,30,\n",
    "#CA3:10, CA1:34,DG: 12\n",
    "#['10', '11', '12', '13', '15', '17', '27', '28', '29', '30', '31','34', '44', '50', '53', '54', '66', '68', '70', '79', '80']\n",
    "\n",
    "fig = plot_cluster_scdata(adata_del2,cmap,clusters=[25],transpose=1,flipx=1,flipy=-1,tag='ddnres5', key = 'X_multi_spatial')"
   ]
  },
  {
   "cell_type": "code",
   "execution_count": null,
   "id": "d390094f-37ee-4e41-ba69-57d140295e7c",
   "metadata": {},
   "outputs": [],
   "source": [
    "adata=adata_co.copy()"
   ]
  },
  {
   "cell_type": "code",
   "execution_count": null,
   "id": "1526c2e4-8b9d-466c-905a-72bf94df1fb3",
   "metadata": {},
   "outputs": [],
   "source": [
    "adata_in=adata[adata.obs['class']=='GABAergic']"
   ]
  },
  {
   "cell_type": "code",
   "execution_count": null,
   "id": "69ffe80b-55b4-4836-a020-390bdd220f0b",
   "metadata": {},
   "outputs": [],
   "source": [
    "sc.pl.umap(adata_in, color = ['class_name'])"
   ]
  },
  {
   "cell_type": "code",
   "execution_count": null,
   "id": "31fd597b-484f-48ed-a06b-d03686f21ae8",
   "metadata": {},
   "outputs": [],
   "source": [
    "sc.pl.umap(adata_in, color = [ 'ddnres5','Lamp5','Sncg'], legend_loc='on data')"
   ]
  },
  {
   "cell_type": "code",
   "execution_count": null,
   "id": "fe031996-0b78-4fae-bfb5-851451de987c",
   "metadata": {},
   "outputs": [],
   "source": [
    "ddnres5_means = adata.to_df().groupby(adata.obs['ddnres5']).mean()\n",
    "\n",
    "subclass_name_means = adata.to_df().groupby(adata.obs['subclass_name']).mean()\n",
    "common_genes = ddnres5_means.columns.intersection(subclass_name_means.columns)\n",
    "\n",
    "ddnres5_means = ddnres5_means[common_genes]\n",
    "subclass_name_means = subclass_name_means[common_genes]\n",
    "correlation_matrix = pd.DataFrame(index=subclass_name_means.index, columns=ddnres5_means.index)\n",
    "\n",
    "for subclass_cluster in subclass_name_means.index:\n",
    "    for ddnres_cluster in ddnres5_means.index:\n",
    "        profile_subclass = subclass_name_means.loc[subclass_cluster]\n",
    "        profile_ddnres = ddnres5_means.loc[ddnres_cluster]\n",
    "        correlation = profile_subclass.corr(profile_ddnres)\n",
    "        correlation_matrix.loc[subclass_cluster, ddnres_cluster] = correlation\n",
    "\n",
    "correlation_matrix = correlation_matrix.astype(float)\n",
    "\n",
    "results = []\n",
    "\n",
    "for ddnres_cluster in correlation_matrix.columns:\n",
    "    correlations = correlation_matrix[ddnres_cluster]\n",
    "    sorted_correlations = correlations.sort_values(ascending=False)\n",
    "    top3 = sorted_correlations.head(3)\n",
    "    for subclass_cluster, corr_value in top3.items():\n",
    "        results.append({\n",
    "            'ddnres5_cluster': ddnres_cluster,\n",
    "            'subclass_name_cluster': subclass_cluster,\n",
    "            'correlation': corr_value\n",
    "        })\n",
    "\n",
    "top_correlations_df = pd.DataFrame(results)"
   ]
  },
  {
   "cell_type": "code",
   "execution_count": null,
   "id": "95e61d22-50e6-4534-b3ce-b85d39366d15",
   "metadata": {},
   "outputs": [],
   "source": [
    "top_correlations_df"
   ]
  },
  {
   "cell_type": "code",
   "execution_count": null,
   "id": "f5f61eb5-6fa6-45a4-ae88-8f5ec4edc63b",
   "metadata": {},
   "outputs": [],
   "source": [
    "import pandas as pd\n",
    "\n",
    "ddnres5_means = adata.to_df().groupby(adata.obs['ddnres5']).mean()\n",
    "subclass_name_means = adata.to_df().groupby(adata.obs['subclass_name']).mean()\n",
    "\n",
    "common_genes = ddnres5_means.columns.intersection(subclass_name_means.columns)\n",
    "\n",
    "ddnres5_means = ddnres5_means[common_genes]\n",
    "subclass_name_means = subclass_name_means[common_genes]\n",
    "\n",
    "correlation_matrix = pd.DataFrame(index=subclass_name_means.index, columns=ddnres5_means.index)\n",
    "\n",
    "for subclass_cluster in subclass_name_means.index:\n",
    "    for ddnres_cluster in ddnres5_means.index:\n",
    "        profile_subclass = subclass_name_means.loc[subclass_cluster]\n",
    "        profile_ddnres = ddnres5_means.loc[ddnres_cluster]\n",
    "        correlation = profile_subclass.corr(profile_ddnres)\n",
    "        correlation_matrix.loc[subclass_cluster, ddnres_cluster] = correlation\n",
    "\n",
    "correlation_matrix = correlation_matrix.astype(float)\n",
    "\n",
    "reformatted_results = []\n",
    "for ddnres_cluster in correlation_matrix.columns:\n",
    "    correlations = correlation_matrix[ddnres_cluster]\n",
    "    sorted_correlations = correlations.sort_values(ascending=False)\n",
    "    top3 = sorted_correlations.head(3)\n",
    "\n",
    "    rank_1 = top3.index[0] if len(top3) > 0 else None\n",
    "    corr_1 = top3.iloc[0] if len(top3) > 0 else None\n",
    "    rank_2 = top3.index[1] if len(top3) > 1 else None\n",
    "    corr_2 = top3.iloc[1] if len(top3) > 1 else None\n",
    "    rank_3 = top3.index[2] if len(top3) > 2 else None\n",
    "    corr_3 = top3.iloc[2] if len(top3) > 2 else None\n",
    "    \n",
    "    reformatted_results.append({\n",
    "        'ddnres5_cluster': ddnres_cluster,\n",
    "        'subclass_name_rank_1': rank_1,\n",
    "        'correlation_rank_1': corr_1,\n",
    "        'subclass_name_rank_2': rank_2,\n",
    "        'correlation_rank_2': corr_2,\n",
    "        'subclass_name_rank_3': rank_3,\n",
    "        'correlation_rank_3': corr_3\n",
    "    })\n",
    "\n",
    "reformatted_df = pd.DataFrame(reformatted_results)\n",
    "reformatted_df.to_csv('f13_ddnres5_subclass_name.csv', index=True)\n",
    "print(reformatted_df)\n"
   ]
  },
  {
   "cell_type": "code",
   "execution_count": null,
   "id": "200a1a80-faba-4306-96d6-d130de964cdf",
   "metadata": {},
   "outputs": [],
   "source": [
    "names=pd.read_excel('f13_names_class1_class_name1_subclass_name1.xlsx')\n",
    "names.set_index('ddnres5', inplace=True)\n",
    "adata.obs['ddnres5'] = adata.obs['ddnres5'].astype(int)\n",
    "names.index=names.index.astype(int)\n",
    "adata.obs['class1'] = adata.obs['ddnres5'].map(names['class1'])\n",
    "adata.obs['class_name1'] = adata.obs['ddnres5'].map(names['Class_name1'])\n",
    "adata.obs['subclass_name1'] = adata.obs['ddnres5'].map(names['subclass_name1'])\n",
    "adata.obs"
   ]
  },
  {
   "cell_type": "code",
   "execution_count": null,
   "id": "78ce05ce-18de-4741-9335-117c7d9cb960",
   "metadata": {},
   "outputs": [],
   "source": [
    "print(adata.obs[['ddnres5', 'class1','class_name1','subclass_name1']].head(20))"
   ]
  },
  {
   "cell_type": "code",
   "execution_count": null,
   "id": "8a610303-42f4-41b8-9b32-d0f31d4f981c",
   "metadata": {},
   "outputs": [],
   "source": [
    "sc.pl.umap(adata, color=['class','class1','class_name1','subclass_name1'])"
   ]
  },
  {
   "cell_type": "code",
   "execution_count": null,
   "id": "79f42dcd-92e3-44b1-92cc-8877789b4e36",
   "metadata": {},
   "outputs": [],
   "source": [
    "adata.uns['log1p'][\"base\"] = None\n",
    "sc.tl.rank_genes_groups(adata, 'class1', method='t-test')\n",
    "result = adata.uns['rank_genes_groups']\n",
    "groups = result['names'].dtype.names\n",
    "df_scdata_class1 = pd.DataFrame({group + '_' + key[:1]: result[key][group] for group in groups for key in ['names','logfoldchanges','pvals','pvals_adj']})\n",
    "#df_scdata.to_csv('f9_adata_del2_ddnres5_rgg.csv')\n",
    "sc.pl.rank_genes_groups_dotplot(adata, n_genes=4)"
   ]
  },
  {
   "cell_type": "code",
   "execution_count": null,
   "id": "05c7c943-fb7d-4ea0-9aac-c324fb34c512",
   "metadata": {},
   "outputs": [],
   "source": [
    "sc.pl.rank_genes_groups_dotplot(adata, n_genes=5)"
   ]
  },
  {
   "cell_type": "code",
   "execution_count": null,
   "id": "dd3d209a-418f-4c46-9d61-aaca7bc70923",
   "metadata": {
    "scrolled": true
   },
   "outputs": [],
   "source": [
    "sc.tl.dendrogram(adata, 'subclass_name1')\n",
    "adata.uns['log1p'][\"base\"] = None\n",
    "sc.tl.rank_genes_groups(adata, 'subclass_name1', method='t-test')\n",
    "result = adata.uns['rank_genes_groups']\n",
    "groups = result['names'].dtype.names\n",
    "df_scdata_subclass_name1 = pd.DataFrame({group + '_' + key[:1]: result[key][group] for group in groups for key in ['names','logfoldchanges','pvals','pvals_adj']})\n",
    "#df_scdata.to_csv('f9_adata_del2_ddnres5_rgg.csv')\n",
    "#sc.pl.rank_genes_groups_dotplot(adata, n_genes=4)"
   ]
  },
  {
   "cell_type": "code",
   "execution_count": null,
   "id": "aa949d1d-b80d-4a73-b513-6c2e80b58f87",
   "metadata": {},
   "outputs": [],
   "source": [
    "import scanpy as sc\n",
    "from collections import OrderedDict\n",
    "\n",
    "sc.pp.scale(adata, zero_center=True, max_value=None)\n",
    "adata.layers['scaled'] = adata.X.copy()\n",
    "\n",
    "genes_to_exclude = {\n",
    "    'App', 'Syp', 'Zfp36l2', 'Psap', 'Prkar1b', 'Gaa', 'Nefl', 'Cd47', 'Ctsb',\n",
    "    'Vip', 'Dvl1', 'Gfap', 'Sqstm1', 'Cd3e', 'Cd8a', 'Clu', 'Hp', 'Pten', 'Cxcl1', 'Clta',\n",
    "    'Gas7','Grin2b','Ppp3cb','Tubb3','Ppfia2','Lyst'\n",
    "}\n",
    "\n",
    "key = 'rank_genes_groups'\n",
    "n_genes = 4\n",
    "groups = adata.uns[key]['names'].dtype.names\n",
    "\n",
    "genes_list = []\n",
    "for group in groups:\n",
    "    top_genes = adata.uns[key]['names'][group][:n_genes]\n",
    "    genes_list.extend(top_genes)\n",
    "\n",
    "unique_genes_ordered = list(OrderedDict.fromkeys(genes_list))\n",
    "\n",
    "adjusted_genes = [gene for gene in unique_genes_ordered if gene not in genes_to_exclude]\n",
    "\n",
    "sc.pl.rank_genes_groups_dotplot(\n",
    "    adata,\n",
    "    var_names=adjusted_genes,\n",
    "    groupby='subclass_name1',  \n",
    "    layer='scaled',\n",
    "    vmax=1, \n",
    "    vmin=-1,  \n",
    "    cmap='coolwarm',\n",
    "    show=True\n",
    ")\n",
    "\n"
   ]
  },
  {
   "cell_type": "code",
   "execution_count": null,
   "id": "c923ffa2-ef5b-4182-ae78-f0ae7cd89d3b",
   "metadata": {},
   "outputs": [],
   "source": [
    "import pandas as pd\n",
    "import seaborn as sns\n",
    "import matplotlib.pyplot as plt\n",
    "\n",
    "class_means = adata.to_df().groupby(adata.obs['subclass_name']).mean()\n",
    "class_name1_means = adata.to_df().groupby(adata.obs['subclass_name1']).mean()\n",
    "\n",
    "common_genes = class_means.columns.intersection(class_name1_means.columns)\n",
    "class_means = class_means[common_genes]\n",
    "class_name1_means = class_name1_means[common_genes]\n",
    "\n",
    "correlation_matrix = pd.DataFrame(index=class_name1_means.index, columns=class_means.index)\n",
    "\n",
    "for subclass_name1_cluster in class_name1_means.index:\n",
    "    for subclass_name_cluster in class_means.index:\n",
    "        profile_subclass_name1 = class_name1_means.loc[subclass_name1_cluster]\n",
    "        profile_subclass_name = class_means.loc[subclass_name_cluster]\n",
    "        correlation = profile_subclass_name1.corr(profile_subclass_name)\n",
    "        correlation_matrix.loc[subclass_name1_cluster, subclass_name_cluster] = correlation\n",
    "\n",
    "correlation_matrix = correlation_matrix.astype(float)\n",
    "\n",
    "top3_subclass_clusters = {}\n",
    "unique_subclass_clusters = set()\n",
    "\n",
    "for subclass_name1_cluster in correlation_matrix.index:\n",
    "    correlations = correlation_matrix.loc[subclass_name1_cluster]\n",
    "    sorted_correlations = correlations.sort_values(ascending=False)\n",
    "    top3 = sorted_correlations.head(3)\n",
    "    top3_clusters = top3.index.tolist()\n",
    "    top3_subclass_clusters[subclass_name1_cluster] = top3_clusters\n",
    "\n",
    "    unique_subclass_clusters.update(top3_clusters)\n",
    "unique_subclass_clusters = list(unique_subclass_clusters)\n",
    "\n",
    "heatmap_data = pd.DataFrame(index=correlation_matrix.index, columns=unique_subclass_clusters)\n",
    "\n",
    "for subclass_name1_cluster in correlation_matrix.index:\n",
    "    for subclass_cluster in top3_subclass_clusters[subclass_name1_cluster]:\n",
    "        corr_value = correlation_matrix.loc[subclass_name1_cluster, subclass_cluster]\n",
    "        heatmap_data.loc[subclass_name1_cluster, subclass_cluster] = corr_value\n",
    "heatmap_data = heatmap_data.astype(float)\n",
    "avg_correlations = heatmap_data.mean(axis=0)\n",
    "sorted_subclass_clusters = avg_correlations.sort_values(ascending=False).index\n",
    "heatmap_data = heatmap_data[sorted_subclass_clusters]\n",
    "\n",
    "plt.figure(figsize=(30, 20))\n",
    "\n",
    "vmin = heatmap_data.min().min()\n",
    "vmax = heatmap_data.max().max()\n",
    "\n",
    "sns.heatmap(\n",
    "    heatmap_data,\n",
    "    annot=False,\n",
    "    fmt=\".2f\",\n",
    "    cmap=\"coolwarm\",\n",
    "    linewidths=0.5,\n",
    "    linecolor='gray',\n",
    "    cbar_kws={'label': 'Pearson Correlation'},\n",
    "    vmin=vmin,\n",
    "    vmax=vmax\n",
    ")\n",
    "\n",
    "plt.xlabel('Subclass Clusters')\n",
    "plt.ylabel('Subclass_name1 Clusters')\n",
    "plt.title('Top 3 Pearson Correlations between subclass_name1 and subclass_name Clusters')\n",
    "plt.tight_layout()\n",
    "plt.show()"
   ]
  },
  {
   "cell_type": "code",
   "execution_count": null,
   "id": "0c86c2b9-c03b-4f9c-ae3a-53c39ff5d598",
   "metadata": {},
   "outputs": [],
   "source": []
  }
 ],
 "metadata": {
  "kernelspec": {
   "display_name": "Python 3 (ipykernel)",
   "language": "python",
   "name": "python3"
  },
  "language_info": {
   "codemirror_mode": {
    "name": "ipython",
    "version": 3
   },
   "file_extension": ".py",
   "mimetype": "text/x-python",
   "name": "python",
   "nbconvert_exporter": "python",
   "pygments_lexer": "ipython3",
   "version": "3.9.19"
  }
 },
 "nbformat": 4,
 "nbformat_minor": 5
}
