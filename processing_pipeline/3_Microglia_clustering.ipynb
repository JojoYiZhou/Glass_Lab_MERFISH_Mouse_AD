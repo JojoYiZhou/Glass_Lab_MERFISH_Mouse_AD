{
 "cells": [
  {
   "cell_type": "code",
   "execution_count": null,
   "id": "585ef338-25c1-4eb7-9898-05ab7620b075",
   "metadata": {},
   "outputs": [],
   "source": [
    "import pickle\n",
    "import seaborn as sns\n",
    "import imageio as io\n",
    "import pandas as pd\n",
    "import os\n",
    "import matplotlib.pyplot as plt\n",
    "import numpy as np\n",
    "import tifffile\n",
    "from tqdm.notebook import tqdm\n",
    "import pathlib\n",
    "import json\n",
    "import glob\n",
    "import PIL\n",
    "import scanpy as sc"
   ]
  },
  {
   "cell_type": "code",
   "execution_count": null,
   "id": "7b06d2b8-152c-4471-809e-12867c3d5486",
   "metadata": {},
   "outputs": [],
   "source": [
    "adata_whole= sc.read(r'data\\240719AnalysisDAM_TERM\\adata_del2.h5ad')"
   ]
  },
  {
   "cell_type": "code",
   "execution_count": null,
   "id": "0056fada-e636-4eec-983b-b65fd08e4716",
   "metadata": {},
   "outputs": [],
   "source": [
    "sc.pl.umap(adata_whole, color=['res3','predicted_label'],legend_loc='on data')"
   ]
  },
  {
   "cell_type": "code",
   "execution_count": null,
   "id": "0f636478-aa80-4264-98b7-d0fc512f5c84",
   "metadata": {},
   "outputs": [],
   "source": [
    "adata_mg=adata_whole[adata_whole.obs['res3']==('3')]"
   ]
  },
  {
   "cell_type": "code",
   "execution_count": null,
   "id": "78557f23-b8de-4e5e-8ecf-2d9dc6304517",
   "metadata": {},
   "outputs": [],
   "source": [
    "adata=adata_mg.copy()"
   ]
  },
  {
   "cell_type": "code",
   "execution_count": null,
   "id": "ce55567d-112b-437d-af6f-b5d31ca55834",
   "metadata": {},
   "outputs": [],
   "source": [
    "sc.pp.pca(adata)\n",
    "sc.pp.neighbors(adata)\n",
    "sc.tl.umap(adata,random_state=9,min_dist=0.001)\n",
    "sc.pl.umap(adata, color='Tmem119')"
   ]
  },
  {
   "cell_type": "code",
   "execution_count": null,
   "id": "d44f5f87-4d82-4d57-be82-426f89c75008",
   "metadata": {},
   "outputs": [],
   "source": [
    "sc.tl.leiden(adata,resolution=2, key_added='mg_res2')\n",
    "sc.pl.umap(adata, color=['mg_res2'], legend_loc='on data')"
   ]
  },
  {
   "cell_type": "code",
   "execution_count": null,
   "id": "8904230c-09ab-48ff-ad5a-b01fde1b288d",
   "metadata": {},
   "outputs": [],
   "source": [
    "sc.set_figure_params(figsize=(5,5))\n",
    "sc.pl.umap(adata, color=['mg_res2','Flt1','Aqp4','Olig1'], legend_loc='on data')"
   ]
  },
  {
   "cell_type": "code",
   "execution_count": null,
   "id": "1b762ee9-7044-4f06-822f-8b3b22b91355",
   "metadata": {},
   "outputs": [],
   "source": [
    "cluster_mapping = adata.obs['mg_res2'].to_dict()\n",
    "\n",
    "adata_whole.obs['mg_res2'] = adata_whole.obs_names.map(cluster_mapping)\n",
    "adata_whole.obs['mg_res2'].fillna('NotClustered', inplace=True)"
   ]
  },
  {
   "cell_type": "code",
   "execution_count": null,
   "id": "fb155207-825f-4fd0-aa33-e307ae8edd1f",
   "metadata": {},
   "outputs": [],
   "source": [
    "clusters=['9','3','21','6']\n",
    "adata=adata[~adata.obs['mg_res2'].isin(clusters)]\n",
    "adata"
   ]
  },
  {
   "cell_type": "code",
   "execution_count": null,
   "id": "16796484-68fe-4d3c-bbac-24e6c303562a",
   "metadata": {},
   "outputs": [],
   "source": [
    "sc.pp.pca(adata)\n",
    "sc.pp.neighbors(adata)\n",
    "sc.tl.umap(adata,random_state=9,min_dist=0.001)\n",
    "sc.pl.umap(adata, color='Tmem119')"
   ]
  },
  {
   "cell_type": "code",
   "execution_count": null,
   "id": "708afd4b-8ce4-4d22-bc60-66295a4c1244",
   "metadata": {},
   "outputs": [],
   "source": [
    "sc.tl.leiden(adata,resolution=1, key_added='mg2_res1')\n",
    "sc.tl.leiden(adata,resolution=0.5, key_added='mg2_res0p5')\n",
    "sc.tl.leiden(adata,resolution=2, key_added='mg2_res2')\n",
    "sc.tl.leiden(adata,resolution=1.5, key_added='mg2_res1p5')"
   ]
  },
  {
   "cell_type": "code",
   "execution_count": null,
   "id": "26ecf4dd-c005-4454-9ee6-bee9a8b4d79e",
   "metadata": {},
   "outputs": [],
   "source": [
    "sc.pl.umap(adata, color=['mg2_res1','mg2_res0p5','mg2_res2','mg2_res1p5'], legend_loc='on data')"
   ]
  },
  {
   "cell_type": "code",
   "execution_count": null,
   "id": "11a3f167-1ded-493b-b458-d995dde616a7",
   "metadata": {},
   "outputs": [],
   "source": [
    "clusters=['3']\n",
    "adata_tr=adata[~adata.obs['mg2_res1p5'].isin(clusters)]\n",
    "adata_tr"
   ]
  },
  {
   "cell_type": "code",
   "execution_count": null,
   "id": "b5875246-5fac-4e43-8d76-ad7d3359f160",
   "metadata": {},
   "outputs": [],
   "source": [
    "sc.pp.pca(adata_tr)\n",
    "sc.pp.neighbors(adata_tr)\n",
    "sc.tl.umap(adata_tr,random_state=9,min_dist=0.001)\n",
    "sc.pl.umap(adata_tr, color='Tmem119')"
   ]
  },
  {
   "cell_type": "code",
   "execution_count": null,
   "id": "40485a6f-5d24-43cf-ae2b-6512b6a7fcb2",
   "metadata": {},
   "outputs": [],
   "source": [
    "sc.tl.leiden(adata_tr,resolution=1, key_added='mgtr_res1')\n",
    "sc.tl.leiden(adata_tr,resolution=0.5, key_added='mgtr_res0p5')\n",
    "sc.tl.leiden(adata_tr,resolution=2, key_added='mgtr_res2')\n",
    "sc.tl.leiden(adata_tr,resolution=1.5, key_added='mgtr_res1p5')"
   ]
  },
  {
   "cell_type": "code",
   "execution_count": null,
   "id": "351bf995-b7c5-4619-bb03-1f953f060f3d",
   "metadata": {},
   "outputs": [],
   "source": [
    "sc.pl.umap(adata_tr, color=['mgtr_res1','mgtr_res0p5','mgtr_res2','mgtr_res1p5'], legend_loc='on data')"
   ]
  },
  {
   "cell_type": "code",
   "execution_count": null,
   "id": "207dad33-ae62-4c11-aabb-87805c434176",
   "metadata": {},
   "outputs": [],
   "source": [
    "adata_tr.obs['mgtr_res1p5'].value_counts()"
   ]
  },
  {
   "cell_type": "code",
   "execution_count": null,
   "id": "adfa3df8-e38b-4595-a4a7-2227d815a379",
   "metadata": {},
   "outputs": [],
   "source": [
    "sc.set_figure_params(figsize=(5,5))\n",
    "sc.pl.umap(\n",
    "    adata_tr, \n",
    "    color=['mgtr_res1'],\n",
    "    add_outline=True,\n",
    "    legend_loc='on data', #right margin\n",
    "    legend_fontsize=15,\n",
    "    legend_fontoutline=4,\n",
    "    frameon=False,\n",
    "    size=20,\n",
    "    show=False,\n",
    "    use_raw=False,\n",
    "    cmap='coolwarm'\n",
    ")"
   ]
  },
  {
   "cell_type": "code",
   "execution_count": null,
   "id": "6b1ef686-696e-4583-8415-fa8b72eb9011",
   "metadata": {},
   "outputs": [],
   "source": [
    "cluster_mapping = adata_tr.obs['mgtr_res1p5'].to_dict()\n",
    "adata_whole.obs['mgtr_res1p5'] = adata_whole.obs_names.map(cluster_mapping)\n",
    "adata_whole.obs['mgtr_res1p5'].fillna('NotClustered', inplace=True)"
   ]
  },
  {
   "cell_type": "code",
   "execution_count": null,
   "id": "d19f87f0-0db5-4c8b-abce-08a49cd7deda",
   "metadata": {},
   "outputs": [],
   "source": [
    "def plot_cluster_scdata_str(scdata, cmap, clusters=[1, 2], transpose=1, flipx=1, flipy=1, tag='cluster', key='X_spatial'):\n",
    "    import matplotlib.pyplot as plt\n",
    "    import numpy as np\n",
    "    \n",
    "    # Generate unique color mappings for clusters\n",
    "    unique_clusters = np.unique(scdata.obs[tag])\n",
    "    cluster_to_color = {str(cluster): cmap[i % len(cmap)] for i, cluster in enumerate(unique_clusters)}\n",
    "    \n",
    "    x, y = (np.array(scdata.obsm[key]) * [flipx, flipy])[:, ::transpose].T\n",
    "    plt.scatter(x, y, c='grey', s=4, marker='.')\n",
    "    \n",
    "    for cluster in clusters:\n",
    "        cluster_ = str(cluster)\n",
    "        inds = scdata.obs[tag] == cluster_\n",
    "        x_ = x[inds]\n",
    "        y_ = y[inds]\n",
    "        col = cluster_to_color.get(cluster_, 'grey')  # Get the color from the mapping\n",
    "        plt.scatter(x_, y_, c=col, s=15, marker='.', label=cluster_)\n",
    "    \n",
    "    plt.grid(False)\n",
    "    plt.axis(\"off\")\n",
    "    plt.axis(\"equal\")\n",
    "    plt.legend()\n",
    "    plt.tight_layout()\n",
    "    return plt.gcf()"
   ]
  },
  {
   "cell_type": "code",
   "execution_count": null,
   "id": "90afa532-b5f1-4b81-bc50-586445e55b0e",
   "metadata": {},
   "outputs": [],
   "source": [
    "clusters = adata_whole.obs['mgtr_res1p5'].unique()\n",
    "output_folder = r'data\\240719AnalysisDAM_TERM\\f4_adata_whole_mgtr_res1p5_single_cluster_spxMap'\n",
    "for cluster in clusters:\n",
    "    fig = plt.figure(figsize=(12, 8), facecolor=\"black\")\n",
    "    plot_cluster_scdata_str(adata_whole, cmap, clusters=[cluster], transpose=1, flipx=1, flipy=-1, tag='mgtr_res1p5', key='X_multi_spatial')\n",
    "    \n",
    "    plt.savefig(f'{output_folder}\\\\f4_cluster_{cluster}_whole_mgtr_res1.jpg', format='jpg', dpi=300, bbox_inches='tight')\n",
    "    \n",
    "    plt.close(fig)"
   ]
  },
  {
   "cell_type": "code",
   "execution_count": null,
   "id": "d1a5fd78-a319-4222-961a-c6dd9d40210e",
   "metadata": {},
   "outputs": [],
   "source": [
    "adata_tr.uns['log1p'][\"base\"] = None\n",
    "sc.tl.rank_genes_groups(adata_tr, 'mgtr_res1p5', method='t-test')\n",
    "result = adata_tr.uns['rank_genes_groups']\n",
    "groups = result['names'].dtype.names\n",
    "df_scdata = pd.DataFrame({group + '_' + key[:1]: result[key][group] for group in groups for key in ['names','logfoldchanges','pvals','pvals_adj']})\n",
    "df_scdata.to_csv('f4_adata_tr_mgres1p5_rgg.csv')"
   ]
  },
  {
   "cell_type": "code",
   "execution_count": null,
   "id": "4c377eb7-5ef1-40bf-a666-66054a28f7ba",
   "metadata": {},
   "outputs": [],
   "source": [
    "plt.style.use('default')\n",
    "sc.tl.rank_genes_groups(adata_tr, groupby='mgtr_res1p5', groups=['1','6','4','13'], reference='0', method='wilcoxon')\n",
    "sc.pl.rank_genes_groups_violin(adata_tr, n_genes=20)\n",
    "#sc.pl.rank_genes_groups_stacked_violin(adata_tr, n_genes=20)"
   ]
  },
  {
   "cell_type": "code",
   "execution_count": null,
   "id": "f8657217-df26-42c6-9add-e64f4c0e0a5d",
   "metadata": {
    "scrolled": true
   },
   "outputs": [],
   "source": [
    "sc.tl.rank_genes_groups(adata_tr, groupby='mgtr_res1p5', groups=['7','8','14','11','15','9'], reference='0', method='wilcoxon')\n",
    "sc.pl.rank_genes_groups_violin(adata_tr, n_genes=20)"
   ]
  },
  {
   "cell_type": "code",
   "execution_count": null,
   "id": "2f2e27ea-4deb-4c12-88a8-98104befbacb",
   "metadata": {},
   "outputs": [],
   "source": [
    "plt.style.use('default')\n",
    "sc.tl.rank_genes_groups(adata_tr, groupby='mgtr_res1p5', groups=['5','12','2','10'], reference='0', method='wilcoxon')\n",
    "sc.pl.rank_genes_groups_violin(adata_tr, n_genes=20)"
   ]
  },
  {
   "cell_type": "code",
   "execution_count": null,
   "id": "37b29104-72e6-4b98-a555-432e83afebc4",
   "metadata": {},
   "outputs": [],
   "source": [
    "fig=plt.figure(figsize=(12, 8), facecolor=\"black\")\n",
    "fig = plot_cluster_scdata(adata_whole,cmap,clusters=[2,5,12],transpose=1,flipx=1,flipy=-1,tag='mgtr_res1p5', key = 'X_multi_spatial')"
   ]
  },
  {
   "cell_type": "code",
   "execution_count": null,
   "id": "a054d739-a256-4d15-ae2f-6cbb44da61db",
   "metadata": {},
   "outputs": [],
   "source": [
    "adata_tr.uns['log1p'][\"base\"] = None\n",
    "sc.tl.rank_genes_groups(adata_tr, 'mgtr_res1p5', method='t-test')\n",
    "# result = adata_tr.uns['rank_genes_groups']\n",
    "# groups = result['names'].dtype.names"
   ]
  },
  {
   "cell_type": "code",
   "execution_count": null,
   "id": "f9fc0665-10f2-4d5e-9d07-08e4413f5621",
   "metadata": {},
   "outputs": [],
   "source": [
    "markers=['P2ry12','Trem2','Cd9','Clec7a','Axl','Lpl','Spp1','C3','Gpnmb','H2-Aa']\n",
    "sc.pl.dotplot(adata_tr, markers, groupby='mgtr_res1p5',dendrogram=True)"
   ]
  },
  {
   "cell_type": "code",
   "execution_count": null,
   "id": "5a90cec3-1da0-4534-842d-0ebf8d500173",
   "metadata": {},
   "outputs": [],
   "source": [
    "cell_dict2={\n",
    "'TERM': ['8','3','6','1'],\n",
    "'DAM': ['7','11','15','9','4','14'],\n",
    "'Homeo_1': ['0','10'],\n",
    "'Homeo_2':['2', '12','5'],\n",
    "'MHCII':['13']\n",
    "}\n",
    "\n",
    "adata_tr.obs['main_type'] = np.nan\n",
    "\n",
    "for i in cell_dict2.keys():\n",
    "    ind = pd.Series(adata_tr.obs['mgtr_res1p5']).isin(cell_dict2[i])\n",
    "    adata_tr.obs.loc[ind,'main_type'] = i"
   ]
  },
  {
   "cell_type": "code",
   "execution_count": null,
   "id": "e93ec334-9162-4b7c-9a9b-f196220db83b",
   "metadata": {},
   "outputs": [],
   "source": [
    "adata=adata_tr[adata_tr.obs['celltype_3']!='Homeo_2']"
   ]
  },
  {
   "cell_type": "code",
   "execution_count": null,
   "id": "bb47fdd5-125b-424a-ae20-34d6e605b1c5",
   "metadata": {},
   "outputs": [],
   "source": [
    "sc.pp.pca(adata)\n",
    "sc.pp.neighbors(adata)\n",
    "sc.tl.umap(adata,random_state=9,min_dist=0.001)"
   ]
  },
  {
   "cell_type": "code",
   "execution_count": null,
   "id": "75b3f48e-f1ef-40a7-be2c-5b0459779e02",
   "metadata": {},
   "outputs": [],
   "source": [
    "sc.pl.umap(\n",
    "    adata, \n",
    "    color=['mgtr_res1p5','geno_type','App','Trem2','celltype_3'],\n",
    "    add_outline=True,\n",
    "    legend_loc='on data', #right margin\n",
    "    legend_fontsize=10,\n",
    "    legend_fontoutline=4,\n",
    "    frameon=False,\n",
    "    size=20,\n",
    "    show=False,\n",
    "    use_raw=False,\n",
    "    cmap='coolwarm'\n",
    ")"
   ]
  },
  {
   "cell_type": "code",
   "execution_count": null,
   "id": "9e171176-a239-4ad7-9f0b-41e8055e24fb",
   "metadata": {},
   "outputs": [],
   "source": [
    "cell_dict2={\n",
    "'Homeo': ['Homeo_1'],\n",
    "'int_DAM': ['Prime_DAM_1'],\n",
    "'DAM_2':['DAM_1'],\n",
    "'DAM_1': ['Prime_DAM_2'],\n",
    "'int_TERM': ['Prime_TERM'],\n",
    "'TERM_1':['TERM_1'],\n",
    "'TERM_2':['TERM_2'],\n",
    "'MHCII':['MHCII']\n",
    "}\n",
    "\n",
    "adata.obs['celltype_4'] = np.nan\n",
    "\n",
    "for i in cell_dict2.keys():\n",
    "    ind = pd.Series(adata.obs['celltype_3']).isin(cell_dict2[i])\n",
    "    adata.obs.loc[ind,'celltype_4'] = i"
   ]
  },
  {
   "cell_type": "code",
   "execution_count": null,
   "id": "ba40b59d-ee95-4863-ad22-92445e58253f",
   "metadata": {},
   "outputs": [],
   "source": [
    "sc.pl.umap(\n",
    "    adata, \n",
    "    color=['celltype_4'],\n",
    "    add_outline=True,\n",
    "    legend_loc='on data',\n",
    "    legend_fontsize=8,\n",
    "    legend_fontoutline=6,\n",
    "    frameon=False,\n",
    "    size=20,\n",
    "    show=False,\n",
    "    use_raw=False,\n",
    ")"
   ]
  },
  {
   "cell_type": "code",
   "execution_count": null,
   "id": "96a29cdb-ce66-4c49-b7fe-b473815dd1cc",
   "metadata": {},
   "outputs": [],
   "source": [
    "cell_dict2={\n",
    "'Mg_0': ['Homeo'],\n",
    "'Mg_1': ['int_DAM'],\n",
    "'Mg_2': ['int_TERM'],\n",
    "'Mg_3': ['TERM_1'],\n",
    "'Mg_4': ['DAM_2'],\n",
    "'Mg_5': ['DAM_1'],\n",
    "'Mg_6': ['TERM_2'],\n",
    "'Mg_7': ['MHCII']\n",
    "}\n",
    "\n",
    "adata.obs['celltype_5'] = np.nan\n",
    "\n",
    "for i in cell_dict2.keys():\n",
    "    ind = pd.Series(adata.obs['celltype_4']).isin(cell_dict2[i])\n",
    "    adata.obs.loc[ind,'celltype_5'] = i"
   ]
  },
  {
   "cell_type": "code",
   "execution_count": null,
   "id": "79950a98-fb56-4506-a836-8908789ce091",
   "metadata": {},
   "outputs": [],
   "source": [
    "custom_colors = {\n",
    "    'Mg_0': 'skyblue',    # Yellow#ffe119\n",
    "    'Mg_2': '#f58231',    # blue4363d8\n",
    "    'Mg_1': '#ffe119', #  Green#3cb44b\n",
    "    'Mg_6': '#e6194B', # Lime#3cb44b\n",
    "    'Mg_5': '#f032e6', # Bright Red\n",
    "    'Mg_7': '#fabed4', #  Orange#f58231 Magenta#f032e6 pink#fabed4\n",
    "    'Mg_3': '#3cb44b', # Olive#808000 4363d8\n",
    "    'Mg_4': '#4363d8' # Magenta#f032e6 Bright Red#e6194B     \n",
    "}\n",
    "\n",
    "unique_classes = adata.obs['celltype_5'].cat.categories\n",
    "adata.uns['celltype_5_colors'] = [custom_colors.get(cls, '#000000') for cls in unique_classes]  # Default black for missing classes\n",
    "sc.set_figure_params(figsize=(5, 5))\n",
    "sc.pl.umap(\n",
    "    adata, \n",
    "    color='celltype_5',\n",
    "    add_outline=True,\n",
    "    legend_loc='on data',  # Legend position\n",
    "    legend_fontsize=16,\n",
    "    legend_fontoutline=2,\n",
    "    frameon=False,\n",
    "    size=20,\n",
    "    show=False,\n",
    "    use_raw=False\n",
    ")\n",
    "\n",
    "output_path = f'{output_folder}/MG_umap_unicolor_update2.pdf'\n",
    "plt.savefig(output_path, bbox_inches='tight', dpi=300)\n",
    "plt.show()"
   ]
  }
 ],
 "metadata": {
  "kernelspec": {
   "display_name": "Python 3 (ipykernel)",
   "language": "python",
   "name": "python3"
  },
  "language_info": {
   "codemirror_mode": {
    "name": "ipython",
    "version": 3
   },
   "file_extension": ".py",
   "mimetype": "text/x-python",
   "name": "python",
   "nbconvert_exporter": "python",
   "pygments_lexer": "ipython3",
   "version": "3.9.19"
  }
 },
 "nbformat": 4,
 "nbformat_minor": 5
}
